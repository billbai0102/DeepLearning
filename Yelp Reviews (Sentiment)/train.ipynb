{
 "cells": [
  {
   "cell_type": "code",
   "execution_count": 2,
   "metadata": {
    "collapsed": true
   },
   "outputs": [],
   "source": [
    "import yaml\n",
    "import numpy as np\n",
    "import pandas as pd\n",
    "\n",
    "import torch\n",
    "from torch import nn\n",
    "from torch import optim\n",
    "from torch.utils.data import Dataset, Dataset"
   ]
  },
  {
   "cell_type": "code",
   "execution_count": 3,
   "outputs": [],
   "source": [
    "with open('hyperparameters.yaml') as f:\n",
    "    hp = yaml.safe_load(f)['hyperparameters']"
   ],
   "metadata": {
    "collapsed": false,
    "pycharm": {
     "name": "#%%\n"
    }
   }
  },
  {
   "cell_type": "code",
   "execution_count": 4,
   "outputs": [],
   "source": [
    "class ReviewDataset(Dataset):\n",
    "    def __init__(self, df, vectorizer):\n",
    "        print('ReviewDS class instantiated.')\n",
    "\n",
    "        self.df = df\n",
    "        self.vectorizer = vectorizer\n",
    "\n",
    "        self.train_df = self.df[self.df[\"split\"] == 'train']\n",
    "        self.val_df = self.df[self.df[\"split\"] == 'val']\n",
    "        self.test_df = self.df[self.df[\"split\"] == 'test']\n",
    "\n",
    "        self.train_len = len(self.train_df)\n",
    "        self.val_len = len(self.val_df)\n",
    "        self.test_len = len(self.test_df)\n",
    "        print(f'Train len: {self.train_len}\\nVal len: {self.val_len}\\nTest len: {self.test_len}')\n",
    "\n",
    "        self.lookup_dict = {\n",
    "            'train': (self.train_df, self.train_len),\n",
    "            'val': (self.val_df, self.val_len),\n",
    "            'test': (self.test_df, self.test_len),\n",
    "        }\n",
    "\n",
    "        self.set_split('train')\n",
    "\n",
    "    def set_split(self, split):\n",
    "        self.target_split = split\n",
    "        self.target_df, self.target_len = self.lookup_dict[self.target_split]\n",
    "\n",
    "\n",
    "    @classmethod\n",
    "    def make_vectorizer(cls, csv):\n",
    "        review_df = pd.read_csv(csv)\n",
    "        train_df = review_df[review_df.split=='train']\n",
    "        return cls(\n",
    "            review_df\n",
    "            , ReviewVectorizer.from_df(train_df)\n",
    "        )\n",
    "\n",
    "\n",
    "    def __len__(self):\n",
    "        pass\n",
    "\n",
    "    def __getitem__(self, idx):\n",
    "        pass"
   ],
   "metadata": {
    "collapsed": false,
    "pycharm": {
     "name": "#%%\n"
    }
   }
  },
  {
   "cell_type": "code",
   "execution_count": null,
   "outputs": [],
   "source": [
    "class ReviewVectorizer():\n",
    "    def __init__(self):\n",
    "        pass\n",
    "\n",
    "    def vectorize(self):\n",
    "        pass\n",
    "\n",
    "    def from_df(self):\n",
    "        pass\n",
    "\n",
    "    def from_serializable(self):\n",
    "        pass\n",
    "\n",
    "    def to_serializable(self):\n",
    "        pass\n",
    "\n"
   ],
   "metadata": {
    "collapsed": false,
    "pycharm": {
     "name": "#%%\n"
    }
   }
  }
 ],
 "metadata": {
  "kernelspec": {
   "name": "deeplearning",
   "language": "python",
   "display_name": "DeepLearning"
  },
  "language_info": {
   "codemirror_mode": {
    "name": "ipython",
    "version": 2
   },
   "file_extension": ".py",
   "mimetype": "text/x-python",
   "name": "python",
   "nbconvert_exporter": "python",
   "pygments_lexer": "ipython2",
   "version": "2.7.6"
  }
 },
 "nbformat": 4,
 "nbformat_minor": 0
}