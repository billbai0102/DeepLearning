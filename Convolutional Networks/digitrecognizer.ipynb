{
 "cells": [
  {
   "cell_type": "markdown",
   "metadata": {
    "collapsed": true,
    "pycharm": {
     "name": "#%% md\n"
    }
   },
   "source": [
    "Link to Kaggle Contest:\n",
    "https://www.kaggle.com/c/digit-recognizer"
   ]
  },
  {
   "cell_type": "code",
   "execution_count": 1,
   "outputs": [
    {
     "name": "stdout",
     "output_type": "stream",
     "text": [
      "True\n",
      "True\n"
     ]
    }
   ],
   "source": [
    "import numpy as np\n",
    "import matplotlib.pyplot as plt\n",
    "import pandas as pd\n",
    "\n",
    "import torch\n",
    "\n",
    "import sklearn\n",
    "from sklearn.model_selection import train_test_split\n",
    "\n",
    "print(torch.cuda.is_available())\n",
    "print(torch.backends.cudnn.enabled)"
   ],
   "metadata": {
    "collapsed": false,
    "pycharm": {
     "name": "#%%\n"
    }
   }
  },
  {
   "cell_type": "code",
   "execution_count": 2,
   "outputs": [
    {
     "data": {
      "text/plain": "device(type='cuda')"
     },
     "execution_count": 2,
     "metadata": {},
     "output_type": "execute_result"
    }
   ],
   "source": [
    "DEVICE = torch.device('cuda')\n",
    "DEVICE"
   ],
   "metadata": {
    "collapsed": false,
    "pycharm": {
     "name": "#%%\n"
    }
   }
  },
  {
   "cell_type": "code",
   "execution_count": 3,
   "outputs": [],
   "source": [
    "df_train = pd.read_csv('./Data/train.csv')\n",
    "df_test = pd.read_csv('./Data/test.csv')"
   ],
   "metadata": {
    "collapsed": false,
    "pycharm": {
     "name": "#%%\n"
    }
   }
  },
  {
   "cell_type": "code",
   "execution_count": 4,
   "outputs": [
    {
     "data": {
      "text/plain": "       label  pixel0  pixel1  pixel2  pixel3  pixel4  pixel5  pixel6  pixel7  \\\n0          1       0       0       0       0       0       0       0       0   \n1          0       0       0       0       0       0       0       0       0   \n2          1       0       0       0       0       0       0       0       0   \n3          4       0       0       0       0       0       0       0       0   \n4          0       0       0       0       0       0       0       0       0   \n...      ...     ...     ...     ...     ...     ...     ...     ...     ...   \n41995      0       0       0       0       0       0       0       0       0   \n41996      1       0       0       0       0       0       0       0       0   \n41997      7       0       0       0       0       0       0       0       0   \n41998      6       0       0       0       0       0       0       0       0   \n41999      9       0       0       0       0       0       0       0       0   \n\n       pixel8  ...  pixel774  pixel775  pixel776  pixel777  pixel778  \\\n0           0  ...         0         0         0         0         0   \n1           0  ...         0         0         0         0         0   \n2           0  ...         0         0         0         0         0   \n3           0  ...         0         0         0         0         0   \n4           0  ...         0         0         0         0         0   \n...       ...  ...       ...       ...       ...       ...       ...   \n41995       0  ...         0         0         0         0         0   \n41996       0  ...         0         0         0         0         0   \n41997       0  ...         0         0         0         0         0   \n41998       0  ...         0         0         0         0         0   \n41999       0  ...         0         0         0         0         0   \n\n       pixel779  pixel780  pixel781  pixel782  pixel783  \n0             0         0         0         0         0  \n1             0         0         0         0         0  \n2             0         0         0         0         0  \n3             0         0         0         0         0  \n4             0         0         0         0         0  \n...         ...       ...       ...       ...       ...  \n41995         0         0         0         0         0  \n41996         0         0         0         0         0  \n41997         0         0         0         0         0  \n41998         0         0         0         0         0  \n41999         0         0         0         0         0  \n\n[42000 rows x 785 columns]",
      "text/html": "<div>\n<style scoped>\n    .dataframe tbody tr th:only-of-type {\n        vertical-align: middle;\n    }\n\n    .dataframe tbody tr th {\n        vertical-align: top;\n    }\n\n    .dataframe thead th {\n        text-align: right;\n    }\n</style>\n<table border=\"1\" class=\"dataframe\">\n  <thead>\n    <tr style=\"text-align: right;\">\n      <th></th>\n      <th>label</th>\n      <th>pixel0</th>\n      <th>pixel1</th>\n      <th>pixel2</th>\n      <th>pixel3</th>\n      <th>pixel4</th>\n      <th>pixel5</th>\n      <th>pixel6</th>\n      <th>pixel7</th>\n      <th>pixel8</th>\n      <th>...</th>\n      <th>pixel774</th>\n      <th>pixel775</th>\n      <th>pixel776</th>\n      <th>pixel777</th>\n      <th>pixel778</th>\n      <th>pixel779</th>\n      <th>pixel780</th>\n      <th>pixel781</th>\n      <th>pixel782</th>\n      <th>pixel783</th>\n    </tr>\n  </thead>\n  <tbody>\n    <tr>\n      <th>0</th>\n      <td>1</td>\n      <td>0</td>\n      <td>0</td>\n      <td>0</td>\n      <td>0</td>\n      <td>0</td>\n      <td>0</td>\n      <td>0</td>\n      <td>0</td>\n      <td>0</td>\n      <td>...</td>\n      <td>0</td>\n      <td>0</td>\n      <td>0</td>\n      <td>0</td>\n      <td>0</td>\n      <td>0</td>\n      <td>0</td>\n      <td>0</td>\n      <td>0</td>\n      <td>0</td>\n    </tr>\n    <tr>\n      <th>1</th>\n      <td>0</td>\n      <td>0</td>\n      <td>0</td>\n      <td>0</td>\n      <td>0</td>\n      <td>0</td>\n      <td>0</td>\n      <td>0</td>\n      <td>0</td>\n      <td>0</td>\n      <td>...</td>\n      <td>0</td>\n      <td>0</td>\n      <td>0</td>\n      <td>0</td>\n      <td>0</td>\n      <td>0</td>\n      <td>0</td>\n      <td>0</td>\n      <td>0</td>\n      <td>0</td>\n    </tr>\n    <tr>\n      <th>2</th>\n      <td>1</td>\n      <td>0</td>\n      <td>0</td>\n      <td>0</td>\n      <td>0</td>\n      <td>0</td>\n      <td>0</td>\n      <td>0</td>\n      <td>0</td>\n      <td>0</td>\n      <td>...</td>\n      <td>0</td>\n      <td>0</td>\n      <td>0</td>\n      <td>0</td>\n      <td>0</td>\n      <td>0</td>\n      <td>0</td>\n      <td>0</td>\n      <td>0</td>\n      <td>0</td>\n    </tr>\n    <tr>\n      <th>3</th>\n      <td>4</td>\n      <td>0</td>\n      <td>0</td>\n      <td>0</td>\n      <td>0</td>\n      <td>0</td>\n      <td>0</td>\n      <td>0</td>\n      <td>0</td>\n      <td>0</td>\n      <td>...</td>\n      <td>0</td>\n      <td>0</td>\n      <td>0</td>\n      <td>0</td>\n      <td>0</td>\n      <td>0</td>\n      <td>0</td>\n      <td>0</td>\n      <td>0</td>\n      <td>0</td>\n    </tr>\n    <tr>\n      <th>4</th>\n      <td>0</td>\n      <td>0</td>\n      <td>0</td>\n      <td>0</td>\n      <td>0</td>\n      <td>0</td>\n      <td>0</td>\n      <td>0</td>\n      <td>0</td>\n      <td>0</td>\n      <td>...</td>\n      <td>0</td>\n      <td>0</td>\n      <td>0</td>\n      <td>0</td>\n      <td>0</td>\n      <td>0</td>\n      <td>0</td>\n      <td>0</td>\n      <td>0</td>\n      <td>0</td>\n    </tr>\n    <tr>\n      <th>...</th>\n      <td>...</td>\n      <td>...</td>\n      <td>...</td>\n      <td>...</td>\n      <td>...</td>\n      <td>...</td>\n      <td>...</td>\n      <td>...</td>\n      <td>...</td>\n      <td>...</td>\n      <td>...</td>\n      <td>...</td>\n      <td>...</td>\n      <td>...</td>\n      <td>...</td>\n      <td>...</td>\n      <td>...</td>\n      <td>...</td>\n      <td>...</td>\n      <td>...</td>\n      <td>...</td>\n    </tr>\n    <tr>\n      <th>41995</th>\n      <td>0</td>\n      <td>0</td>\n      <td>0</td>\n      <td>0</td>\n      <td>0</td>\n      <td>0</td>\n      <td>0</td>\n      <td>0</td>\n      <td>0</td>\n      <td>0</td>\n      <td>...</td>\n      <td>0</td>\n      <td>0</td>\n      <td>0</td>\n      <td>0</td>\n      <td>0</td>\n      <td>0</td>\n      <td>0</td>\n      <td>0</td>\n      <td>0</td>\n      <td>0</td>\n    </tr>\n    <tr>\n      <th>41996</th>\n      <td>1</td>\n      <td>0</td>\n      <td>0</td>\n      <td>0</td>\n      <td>0</td>\n      <td>0</td>\n      <td>0</td>\n      <td>0</td>\n      <td>0</td>\n      <td>0</td>\n      <td>...</td>\n      <td>0</td>\n      <td>0</td>\n      <td>0</td>\n      <td>0</td>\n      <td>0</td>\n      <td>0</td>\n      <td>0</td>\n      <td>0</td>\n      <td>0</td>\n      <td>0</td>\n    </tr>\n    <tr>\n      <th>41997</th>\n      <td>7</td>\n      <td>0</td>\n      <td>0</td>\n      <td>0</td>\n      <td>0</td>\n      <td>0</td>\n      <td>0</td>\n      <td>0</td>\n      <td>0</td>\n      <td>0</td>\n      <td>...</td>\n      <td>0</td>\n      <td>0</td>\n      <td>0</td>\n      <td>0</td>\n      <td>0</td>\n      <td>0</td>\n      <td>0</td>\n      <td>0</td>\n      <td>0</td>\n      <td>0</td>\n    </tr>\n    <tr>\n      <th>41998</th>\n      <td>6</td>\n      <td>0</td>\n      <td>0</td>\n      <td>0</td>\n      <td>0</td>\n      <td>0</td>\n      <td>0</td>\n      <td>0</td>\n      <td>0</td>\n      <td>0</td>\n      <td>...</td>\n      <td>0</td>\n      <td>0</td>\n      <td>0</td>\n      <td>0</td>\n      <td>0</td>\n      <td>0</td>\n      <td>0</td>\n      <td>0</td>\n      <td>0</td>\n      <td>0</td>\n    </tr>\n    <tr>\n      <th>41999</th>\n      <td>9</td>\n      <td>0</td>\n      <td>0</td>\n      <td>0</td>\n      <td>0</td>\n      <td>0</td>\n      <td>0</td>\n      <td>0</td>\n      <td>0</td>\n      <td>0</td>\n      <td>...</td>\n      <td>0</td>\n      <td>0</td>\n      <td>0</td>\n      <td>0</td>\n      <td>0</td>\n      <td>0</td>\n      <td>0</td>\n      <td>0</td>\n      <td>0</td>\n      <td>0</td>\n    </tr>\n  </tbody>\n</table>\n<p>42000 rows × 785 columns</p>\n</div>"
     },
     "execution_count": 4,
     "metadata": {},
     "output_type": "execute_result"
    }
   ],
   "source": [
    "df_train"
   ],
   "metadata": {
    "collapsed": false,
    "pycharm": {
     "name": "#%%\n"
    }
   }
  },
  {
   "cell_type": "code",
   "execution_count": 5,
   "outputs": [
    {
     "data": {
      "text/plain": "       pixel0  pixel1  pixel2  pixel3  pixel4  pixel5  pixel6  pixel7  pixel8  \\\n0           0       0       0       0       0       0       0       0       0   \n1           0       0       0       0       0       0       0       0       0   \n2           0       0       0       0       0       0       0       0       0   \n3           0       0       0       0       0       0       0       0       0   \n4           0       0       0       0       0       0       0       0       0   \n...       ...     ...     ...     ...     ...     ...     ...     ...     ...   \n27995       0       0       0       0       0       0       0       0       0   \n27996       0       0       0       0       0       0       0       0       0   \n27997       0       0       0       0       0       0       0       0       0   \n27998       0       0       0       0       0       0       0       0       0   \n27999       0       0       0       0       0       0       0       0       0   \n\n       pixel9  ...  pixel774  pixel775  pixel776  pixel777  pixel778  \\\n0           0  ...         0         0         0         0         0   \n1           0  ...         0         0         0         0         0   \n2           0  ...         0         0         0         0         0   \n3           0  ...         0         0         0         0         0   \n4           0  ...         0         0         0         0         0   \n...       ...  ...       ...       ...       ...       ...       ...   \n27995       0  ...         0         0         0         0         0   \n27996       0  ...         0         0         0         0         0   \n27997       0  ...         0         0         0         0         0   \n27998       0  ...         0         0         0         0         0   \n27999       0  ...         0         0         0         0         0   \n\n       pixel779  pixel780  pixel781  pixel782  pixel783  \n0             0         0         0         0         0  \n1             0         0         0         0         0  \n2             0         0         0         0         0  \n3             0         0         0         0         0  \n4             0         0         0         0         0  \n...         ...       ...       ...       ...       ...  \n27995         0         0         0         0         0  \n27996         0         0         0         0         0  \n27997         0         0         0         0         0  \n27998         0         0         0         0         0  \n27999         0         0         0         0         0  \n\n[28000 rows x 784 columns]",
      "text/html": "<div>\n<style scoped>\n    .dataframe tbody tr th:only-of-type {\n        vertical-align: middle;\n    }\n\n    .dataframe tbody tr th {\n        vertical-align: top;\n    }\n\n    .dataframe thead th {\n        text-align: right;\n    }\n</style>\n<table border=\"1\" class=\"dataframe\">\n  <thead>\n    <tr style=\"text-align: right;\">\n      <th></th>\n      <th>pixel0</th>\n      <th>pixel1</th>\n      <th>pixel2</th>\n      <th>pixel3</th>\n      <th>pixel4</th>\n      <th>pixel5</th>\n      <th>pixel6</th>\n      <th>pixel7</th>\n      <th>pixel8</th>\n      <th>pixel9</th>\n      <th>...</th>\n      <th>pixel774</th>\n      <th>pixel775</th>\n      <th>pixel776</th>\n      <th>pixel777</th>\n      <th>pixel778</th>\n      <th>pixel779</th>\n      <th>pixel780</th>\n      <th>pixel781</th>\n      <th>pixel782</th>\n      <th>pixel783</th>\n    </tr>\n  </thead>\n  <tbody>\n    <tr>\n      <th>0</th>\n      <td>0</td>\n      <td>0</td>\n      <td>0</td>\n      <td>0</td>\n      <td>0</td>\n      <td>0</td>\n      <td>0</td>\n      <td>0</td>\n      <td>0</td>\n      <td>0</td>\n      <td>...</td>\n      <td>0</td>\n      <td>0</td>\n      <td>0</td>\n      <td>0</td>\n      <td>0</td>\n      <td>0</td>\n      <td>0</td>\n      <td>0</td>\n      <td>0</td>\n      <td>0</td>\n    </tr>\n    <tr>\n      <th>1</th>\n      <td>0</td>\n      <td>0</td>\n      <td>0</td>\n      <td>0</td>\n      <td>0</td>\n      <td>0</td>\n      <td>0</td>\n      <td>0</td>\n      <td>0</td>\n      <td>0</td>\n      <td>...</td>\n      <td>0</td>\n      <td>0</td>\n      <td>0</td>\n      <td>0</td>\n      <td>0</td>\n      <td>0</td>\n      <td>0</td>\n      <td>0</td>\n      <td>0</td>\n      <td>0</td>\n    </tr>\n    <tr>\n      <th>2</th>\n      <td>0</td>\n      <td>0</td>\n      <td>0</td>\n      <td>0</td>\n      <td>0</td>\n      <td>0</td>\n      <td>0</td>\n      <td>0</td>\n      <td>0</td>\n      <td>0</td>\n      <td>...</td>\n      <td>0</td>\n      <td>0</td>\n      <td>0</td>\n      <td>0</td>\n      <td>0</td>\n      <td>0</td>\n      <td>0</td>\n      <td>0</td>\n      <td>0</td>\n      <td>0</td>\n    </tr>\n    <tr>\n      <th>3</th>\n      <td>0</td>\n      <td>0</td>\n      <td>0</td>\n      <td>0</td>\n      <td>0</td>\n      <td>0</td>\n      <td>0</td>\n      <td>0</td>\n      <td>0</td>\n      <td>0</td>\n      <td>...</td>\n      <td>0</td>\n      <td>0</td>\n      <td>0</td>\n      <td>0</td>\n      <td>0</td>\n      <td>0</td>\n      <td>0</td>\n      <td>0</td>\n      <td>0</td>\n      <td>0</td>\n    </tr>\n    <tr>\n      <th>4</th>\n      <td>0</td>\n      <td>0</td>\n      <td>0</td>\n      <td>0</td>\n      <td>0</td>\n      <td>0</td>\n      <td>0</td>\n      <td>0</td>\n      <td>0</td>\n      <td>0</td>\n      <td>...</td>\n      <td>0</td>\n      <td>0</td>\n      <td>0</td>\n      <td>0</td>\n      <td>0</td>\n      <td>0</td>\n      <td>0</td>\n      <td>0</td>\n      <td>0</td>\n      <td>0</td>\n    </tr>\n    <tr>\n      <th>...</th>\n      <td>...</td>\n      <td>...</td>\n      <td>...</td>\n      <td>...</td>\n      <td>...</td>\n      <td>...</td>\n      <td>...</td>\n      <td>...</td>\n      <td>...</td>\n      <td>...</td>\n      <td>...</td>\n      <td>...</td>\n      <td>...</td>\n      <td>...</td>\n      <td>...</td>\n      <td>...</td>\n      <td>...</td>\n      <td>...</td>\n      <td>...</td>\n      <td>...</td>\n      <td>...</td>\n    </tr>\n    <tr>\n      <th>27995</th>\n      <td>0</td>\n      <td>0</td>\n      <td>0</td>\n      <td>0</td>\n      <td>0</td>\n      <td>0</td>\n      <td>0</td>\n      <td>0</td>\n      <td>0</td>\n      <td>0</td>\n      <td>...</td>\n      <td>0</td>\n      <td>0</td>\n      <td>0</td>\n      <td>0</td>\n      <td>0</td>\n      <td>0</td>\n      <td>0</td>\n      <td>0</td>\n      <td>0</td>\n      <td>0</td>\n    </tr>\n    <tr>\n      <th>27996</th>\n      <td>0</td>\n      <td>0</td>\n      <td>0</td>\n      <td>0</td>\n      <td>0</td>\n      <td>0</td>\n      <td>0</td>\n      <td>0</td>\n      <td>0</td>\n      <td>0</td>\n      <td>...</td>\n      <td>0</td>\n      <td>0</td>\n      <td>0</td>\n      <td>0</td>\n      <td>0</td>\n      <td>0</td>\n      <td>0</td>\n      <td>0</td>\n      <td>0</td>\n      <td>0</td>\n    </tr>\n    <tr>\n      <th>27997</th>\n      <td>0</td>\n      <td>0</td>\n      <td>0</td>\n      <td>0</td>\n      <td>0</td>\n      <td>0</td>\n      <td>0</td>\n      <td>0</td>\n      <td>0</td>\n      <td>0</td>\n      <td>...</td>\n      <td>0</td>\n      <td>0</td>\n      <td>0</td>\n      <td>0</td>\n      <td>0</td>\n      <td>0</td>\n      <td>0</td>\n      <td>0</td>\n      <td>0</td>\n      <td>0</td>\n    </tr>\n    <tr>\n      <th>27998</th>\n      <td>0</td>\n      <td>0</td>\n      <td>0</td>\n      <td>0</td>\n      <td>0</td>\n      <td>0</td>\n      <td>0</td>\n      <td>0</td>\n      <td>0</td>\n      <td>0</td>\n      <td>...</td>\n      <td>0</td>\n      <td>0</td>\n      <td>0</td>\n      <td>0</td>\n      <td>0</td>\n      <td>0</td>\n      <td>0</td>\n      <td>0</td>\n      <td>0</td>\n      <td>0</td>\n    </tr>\n    <tr>\n      <th>27999</th>\n      <td>0</td>\n      <td>0</td>\n      <td>0</td>\n      <td>0</td>\n      <td>0</td>\n      <td>0</td>\n      <td>0</td>\n      <td>0</td>\n      <td>0</td>\n      <td>0</td>\n      <td>...</td>\n      <td>0</td>\n      <td>0</td>\n      <td>0</td>\n      <td>0</td>\n      <td>0</td>\n      <td>0</td>\n      <td>0</td>\n      <td>0</td>\n      <td>0</td>\n      <td>0</td>\n    </tr>\n  </tbody>\n</table>\n<p>28000 rows × 784 columns</p>\n</div>"
     },
     "execution_count": 5,
     "metadata": {},
     "output_type": "execute_result"
    }
   ],
   "source": [
    "df_test"
   ],
   "metadata": {
    "collapsed": false,
    "pycharm": {
     "name": "#%%\n"
    }
   }
  },
  {
   "cell_type": "code",
   "execution_count": 6,
   "outputs": [
    {
     "data": {
      "text/plain": "array([1, 0, 1, ..., 7, 6, 9], dtype=int64)"
     },
     "execution_count": 6,
     "metadata": {},
     "output_type": "execute_result"
    }
   ],
   "source": [
    "y = df_train['label'].values\n",
    "y"
   ],
   "metadata": {
    "collapsed": false,
    "pycharm": {
     "name": "#%%\n"
    }
   }
  },
  {
   "cell_type": "code",
   "execution_count": 7,
   "outputs": [
    {
     "data": {
      "text/plain": "array([[0., 0., 0., ..., 0., 0., 0.],\n       [0., 0., 0., ..., 0., 0., 0.],\n       [0., 0., 0., ..., 0., 0., 0.],\n       ...,\n       [0., 0., 0., ..., 0., 0., 0.],\n       [0., 0., 0., ..., 0., 0., 0.],\n       [0., 0., 0., ..., 0., 0., 0.]], dtype=float32)"
     },
     "execution_count": 7,
     "metadata": {},
     "output_type": "execute_result"
    }
   ],
   "source": [
    "X = df_train.iloc[:, 1:].values.astype('float32')\n",
    "X"
   ],
   "metadata": {
    "collapsed": false,
    "pycharm": {
     "name": "#%%\n"
    }
   }
  },
  {
   "cell_type": "code",
   "execution_count": 8,
   "outputs": [
    {
     "data": {
      "text/plain": "array([[0., 0., 0., ..., 0., 0., 0.],\n       [0., 0., 0., ..., 0., 0., 0.],\n       [0., 0., 0., ..., 0., 0., 0.],\n       ...,\n       [0., 0., 0., ..., 0., 0., 0.],\n       [0., 0., 0., ..., 0., 0., 0.],\n       [0., 0., 0., ..., 0., 0., 0.]], dtype=float32)"
     },
     "execution_count": 8,
     "metadata": {},
     "output_type": "execute_result"
    }
   ],
   "source": [
    "test = df_test.iloc[:,:].values.astype('float32')\n",
    "test"
   ],
   "metadata": {
    "collapsed": false,
    "pycharm": {
     "name": "#%%\n"
    }
   }
  },
  {
   "cell_type": "code",
   "execution_count": 9,
   "outputs": [],
   "source": [
    "train_X, val_X, train_y, val_y = train_test_split(X\n",
    "                                                  , y\n",
    "                                                  , stratify=y\n",
    "                                                  , test_size=0.2\n",
    "                                                  , random_state=888)"
   ],
   "metadata": {
    "collapsed": false,
    "pycharm": {
     "name": "#%%\n"
    }
   }
  },
  {
   "cell_type": "code",
   "execution_count": 10,
   "outputs": [],
   "source": [
    "train_X = train_X.reshape(train_X.shape[0], 28, 28)\n",
    "val_X = val_X.reshape(val_X.shape[0], 28, 28)\n",
    "test = test.reshape(test.shape[0], 28, 28)"
   ],
   "metadata": {
    "collapsed": false,
    "pycharm": {
     "name": "#%%\n"
    }
   }
  },
  {
   "cell_type": "code",
   "execution_count": 11,
   "outputs": [
    {
     "data": {
      "text/plain": "<Figure size 432x288 with 9 Axes>",
      "image/png": "[encoded data removed]"
     },
     "metadata": {
      "needs_background": "light"
     },
     "output_type": "display_data"
    }
   ],
   "source": [
    "for i in range(9):\n",
    "    plt.subplot(330 + (i + 1))\n",
    "    plt.imshow(train_X[i].squeeze(), cmap=plt.get_cmap('gray'))\n",
    "    plt.title(train_y[i])"
   ],
   "metadata": {
    "collapsed": false,
    "pycharm": {
     "name": "#%%\n"
    }
   }
  },
  {
   "cell_type": "code",
   "execution_count": 12,
   "outputs": [],
   "source": [
    "from torch.utils.data import DataLoader, TensorDataset\n",
    "\n",
    "train_X_tensor = torch.tensor(train_X) / 255.0\n",
    "train_y_tensor = torch.tensor(train_y)\n",
    "train_tensor = TensorDataset(train_X_tensor, train_y_tensor)\n",
    "\n",
    "val_X_tensor = torch.tensor(val_X) / 255.0\n",
    "val_y_tensor = torch.tensor(val_y)\n",
    "val_tensor = TensorDataset(val_X_tensor, val_y_tensor)\n",
    "\n",
    "test_tensor = torch.tensor(test) / 255.0"
   ],
   "metadata": {
    "collapsed": false,
    "pycharm": {
     "name": "#%%\n"
    }
   }
  },
  {
   "cell_type": "code",
   "execution_count": 13,
   "outputs": [],
   "source": [
    "train_loader = DataLoader(train_tensor, batch_size=32, num_workers=2, shuffle=True)\n",
    "val_loader = DataLoader(val_tensor, batch_size=32, num_workers=2, shuffle=True)\n",
    "test_loader = DataLoader(test_tensor, batch_size=32, num_workers=2, shuffle=False)"
   ],
   "metadata": {
    "collapsed": false,
    "pycharm": {
     "name": "#%%\n"
    }
   }
  },
  {
   "cell_type": "code",
   "execution_count": 14,
   "outputs": [
    {
     "name": "stderr",
     "output_type": "stream",
     "text": [
      "C:\\Users\\Bill\\anaconda3\\envs\\DeepLearning\\lib\\site-packages\\matplotlib\\text.py:1165: FutureWarning: elementwise comparison failed; returning scalar instead, but in the future will perform elementwise comparison\n",
      "  if s != self._text:\n"
     ]
    },
    {
     "data": {
      "text/plain": "<Figure size 432x288 with 1 Axes>",
      "image/png": "[encoded data removed]"
     },
     "metadata": {
      "needs_background": "light"
     },
     "output_type": "display_data"
    }
   ],
   "source": [
    "from torchvision.utils import make_grid\n",
    "\n",
    "for batch_idx, (data, target) in enumerate(train_loader):\n",
    "    img_grid = make_grid(data[0:8,].unsqueeze(1), nrow=8)\n",
    "    img_target_labels = target[0:8,].numpy()\n",
    "    break\n",
    "\n",
    "plt.imshow(img_grid.numpy().transpose((1,2,0)))\n",
    "plt.rcParams['figure.figsize'] = (10, 2)\n",
    "plt.title(img_target_labels, size=16)\n",
    "plt.show()\n"
   ],
   "metadata": {
    "collapsed": false,
    "pycharm": {
     "name": "#%%\n"
    }
   }
  },
  {
   "cell_type": "code",
   "execution_count": 15,
   "outputs": [],
   "source": [
    "from torch import nn\n",
    "from torch.nn import functional as F\n",
    "from torch import optim\n",
    "from torch.autograd import Variable\n",
    "\n",
    "class CNN(nn.Module):\n",
    "    def __init__(self):\n",
    "        super(CNN, self).__init__()\n",
    "\n",
    "        self.features = nn.Sequential(\n",
    "            nn.Conv2d(1, 32, kernel_size=3, stride=1, padding=1)\n",
    "            , nn.BatchNorm2d(32)\n",
    "            , nn.ReLU()\n",
    "            , nn.Conv2d(32, 32, kernel_size=3, stride=1, padding=1)\n",
    "            , nn.BatchNorm2d(32)\n",
    "            , nn.ReLU()\n",
    "            , nn.MaxPool2d(kernel_size=2, stride=2)\n",
    "            , nn.Conv2d(32, 64, kernel_size=3, stride=1, padding=1)\n",
    "            , nn.BatchNorm2d(64)\n",
    "            , nn.ReLU()\n",
    "            , nn.Conv2d(64, 64, kernel_size=3, stride=1, padding=1)\n",
    "            , nn.BatchNorm2d(64)\n",
    "            , nn.ReLU()\n",
    "            , nn.MaxPool2d(kernel_size=2, stride=2)\n",
    "        )\n",
    "\n",
    "        self.classifier = nn.Sequential(\n",
    "            nn.Dropout(p=0.5)\n",
    "            , nn.Linear(3136, 512)\n",
    "            , nn.BatchNorm1d(512)\n",
    "            , nn.ReLU()\n",
    "            , nn.Dropout(p=0.5)\n",
    "            , nn.Linear(512, 256)\n",
    "            , nn.BatchNorm1d(256)\n",
    "            , nn.ReLU()\n",
    "            , nn.Dropout(p=0.5)\n",
    "            , nn.Linear(256, 10)\n",
    "        )\n",
    "\n",
    "    def forward(self, x):\n",
    "        x = self.features(x)\n",
    "        x = x.view(x.size(0), -1)\n",
    "        x = self.classifier(x)\n",
    "        return x"
   ],
   "metadata": {
    "collapsed": false,
    "pycharm": {
     "name": "#%%\n"
    }
   }
  },
  {
   "cell_type": "code",
   "execution_count": 16,
   "outputs": [
    {
     "data": {
      "text/plain": "CNN(\n  (features): Sequential(\n    (0): Conv2d(1, 32, kernel_size=(3, 3), stride=(1, 1), padding=(1, 1))\n    (1): BatchNorm2d(32, eps=1e-05, momentum=0.1, affine=True, track_running_stats=True)\n    (2): ReLU()\n    (3): Conv2d(32, 32, kernel_size=(3, 3), stride=(1, 1), padding=(1, 1))\n    (4): BatchNorm2d(32, eps=1e-05, momentum=0.1, affine=True, track_running_stats=True)\n    (5): ReLU()\n    (6): MaxPool2d(kernel_size=2, stride=2, padding=0, dilation=1, ceil_mode=False)\n    (7): Conv2d(32, 64, kernel_size=(3, 3), stride=(1, 1), padding=(1, 1))\n    (8): BatchNorm2d(64, eps=1e-05, momentum=0.1, affine=True, track_running_stats=True)\n    (9): ReLU()\n    (10): Conv2d(64, 64, kernel_size=(3, 3), stride=(1, 1), padding=(1, 1))\n    (11): BatchNorm2d(64, eps=1e-05, momentum=0.1, affine=True, track_running_stats=True)\n    (12): ReLU()\n    (13): MaxPool2d(kernel_size=2, stride=2, padding=0, dilation=1, ceil_mode=False)\n  )\n  (classifier): Sequential(\n    (0): Dropout(p=0.5, inplace=False)\n    (1): Linear(in_features=3136, out_features=512, bias=True)\n    (2): BatchNorm1d(512, eps=1e-05, momentum=0.1, affine=True, track_running_stats=True)\n    (3): ReLU()\n    (4): Dropout(p=0.5, inplace=False)\n    (5): Linear(in_features=512, out_features=256, bias=True)\n    (6): BatchNorm1d(256, eps=1e-05, momentum=0.1, affine=True, track_running_stats=True)\n    (7): ReLU()\n    (8): Dropout(p=0.5, inplace=False)\n    (9): Linear(in_features=256, out_features=10, bias=True)\n  )\n)"
     },
     "execution_count": 16,
     "metadata": {},
     "output_type": "execute_result"
    }
   ],
   "source": [
    "model = CNN()\n",
    "model = model.cuda()\n",
    "model"
   ],
   "metadata": {
    "collapsed": false,
    "pycharm": {
     "name": "#%%\n"
    }
   }
  },
  {
   "cell_type": "code",
   "execution_count": 17,
   "outputs": [],
   "source": [
    "optimizer = optim.Adam(params=model.parameters(), lr=0.001)\n",
    "crit = nn.CrossEntropyLoss()\n",
    "steplr = optim.lr_scheduler.StepLR(optimizer, step_size=7, gamma=0.1)\n"
   ],
   "metadata": {
    "collapsed": false,
    "pycharm": {
     "name": "#%%\n"
    }
   }
  },
  {
   "cell_type": "code",
   "execution_count": 18,
   "outputs": [],
   "source": [
    "def train(num_epoch):\n",
    "    model.train()\n",
    "    steplr.step()\n",
    "\n",
    "    for batch_idx, (data, target) in enumerate(train_loader):\n",
    "        data = data.unsqueeze(1)\n",
    "        data, target = Variable(data), Variable(target)\n",
    "\n",
    "        data = data.cuda()\n",
    "        target = target.cuda()\n",
    "\n",
    "        optimizer.zero_grad()\n",
    "        output = model(data)\n",
    "        loss = crit(output, target)\n",
    "        loss.backward()\n",
    "        optimizer.step()\n",
    "\n",
    "        if (batch_idx + 1)% 100 == 0:\n",
    "            print(f'Train Epoch: {num_epoch + 1} --> {(batch_idx + 1) * len(data)}/{len(train_loader.dataset)} '\n",
    "                  f'({100.0 * (batch_idx + 1) / len(train_loader):.0f}%)\\tLoss: {loss.data.item():.6f}')"
   ],
   "metadata": {
    "collapsed": false,
    "pycharm": {
     "name": "#%%\n"
    }
   }
  },
  {
   "cell_type": "code",
   "execution_count": 19,
   "outputs": [],
   "source": [
    "def evaluate(data_loader):\n",
    "    model.eval()\n",
    "    loss = 0\n",
    "    correct = 0\n",
    "\n",
    "    for data, target in data_loader:\n",
    "        data = data.unsqueeze(1)\n",
    "        data, target = Variable(data), Variable(target)\n",
    "\n",
    "        data = data.cuda()\n",
    "        target = target.cuda()\n",
    "\n",
    "        output = model(data)\n",
    "\n",
    "        loss += F.cross_entropy(output, target, size_average=False).data.item()\n",
    "\n",
    "        pred = output.data.max(1, keepdim=True)[1]\n",
    "        correct += pred.eq(target.data.view_as(pred)).cpu().sum()\n",
    "\n",
    "    loss /= len(data_loader.dataset)\n",
    "\n",
    "    print(f'\\nLoss: {loss:.4f} \\t Val Accuracy: {correct}/{len(data_loader.dataset)} '\n",
    "          f'({100.0 * correct / len(data_loader.dataset):.3f}%)\\n')"
   ],
   "metadata": {
    "collapsed": false,
    "pycharm": {
     "name": "#%%\n"
    }
   }
  },
  {
   "cell_type": "code",
   "execution_count": 20,
   "outputs": [
    {
     "name": "stderr",
     "output_type": "stream",
     "text": [
      "C:\\Users\\Bill\\anaconda3\\envs\\DeepLearning\\lib\\site-packages\\torch\\optim\\lr_scheduler.py:123: UserWarning: Detected call of `lr_scheduler.step()` before `optimizer.step()`. In PyTorch 1.1.0 and later, you should call them in the opposite order: `optimizer.step()` before `lr_scheduler.step()`.  Failure to do this will result in PyTorch skipping the first value of the learning rate schedule. See more details at https://pytorch.org/docs/stable/optim.html#how-to-adjust-learning-rate\n",
      "  \"https://pytorch.org/docs/stable/optim.html#how-to-adjust-learning-rate\", UserWarning)\n",
      "C:\\Users\\Bill\\anaconda3\\envs\\DeepLearning\\lib\\site-packages\\torch\\nn\\_reduction.py:43: UserWarning: size_average and reduce args will be deprecated, please use reduction='sum' instead.\n",
      "  warnings.warn(warning.format(ret))\n"
     ]
    },
    {
     "name": "stdout",
     "output_type": "stream",
     "text": [
      "Train Epoch: 1 --> 3200/33600 (10%)\tLoss: 0.555730\n",
      "Train Epoch: 1 --> 6400/33600 (19%)\tLoss: 0.380974\n",
      "Train Epoch: 1 --> 9600/33600 (29%)\tLoss: 0.126147\n",
      "Train Epoch: 1 --> 12800/33600 (38%)\tLoss: 0.156606\n",
      "Train Epoch: 1 --> 16000/33600 (48%)\tLoss: 0.375939\n",
      "Train Epoch: 1 --> 19200/33600 (57%)\tLoss: 0.103520\n",
      "Train Epoch: 1 --> 22400/33600 (67%)\tLoss: 0.328539\n",
      "Train Epoch: 1 --> 25600/33600 (76%)\tLoss: 0.212159\n",
      "Train Epoch: 1 --> 28800/33600 (86%)\tLoss: 0.022426\n",
      "Train Epoch: 1 --> 32000/33600 (95%)\tLoss: 0.286299\n",
      "\n",
      "Loss: 0.0432 \t Val Accuracy: 8288/8400 (98.667%)\n",
      "\n",
      "Train Epoch: 2 --> 3200/33600 (10%)\tLoss: 0.053364\n",
      "Train Epoch: 2 --> 6400/33600 (19%)\tLoss: 0.089609\n",
      "Train Epoch: 2 --> 9600/33600 (29%)\tLoss: 0.107284\n",
      "Train Epoch: 2 --> 12800/33600 (38%)\tLoss: 0.401920\n",
      "Train Epoch: 2 --> 16000/33600 (48%)\tLoss: 0.025816\n",
      "Train Epoch: 2 --> 19200/33600 (57%)\tLoss: 0.278416\n",
      "Train Epoch: 2 --> 22400/33600 (67%)\tLoss: 0.038921\n",
      "Train Epoch: 2 --> 25600/33600 (76%)\tLoss: 0.083833\n",
      "Train Epoch: 2 --> 28800/33600 (86%)\tLoss: 0.021616\n",
      "Train Epoch: 2 --> 32000/33600 (95%)\tLoss: 0.272526\n",
      "\n",
      "Loss: 0.0349 \t Val Accuracy: 8305/8400 (98.869%)\n",
      "\n",
      "Train Epoch: 3 --> 3200/33600 (10%)\tLoss: 0.013690\n",
      "Train Epoch: 3 --> 6400/33600 (19%)\tLoss: 0.184401\n",
      "Train Epoch: 3 --> 9600/33600 (29%)\tLoss: 0.040124\n",
      "Train Epoch: 3 --> 12800/33600 (38%)\tLoss: 0.268187\n",
      "Train Epoch: 3 --> 16000/33600 (48%)\tLoss: 0.071058\n",
      "Train Epoch: 3 --> 19200/33600 (57%)\tLoss: 0.022630\n",
      "Train Epoch: 3 --> 22400/33600 (67%)\tLoss: 0.042279\n",
      "Train Epoch: 3 --> 25600/33600 (76%)\tLoss: 0.387256\n",
      "Train Epoch: 3 --> 28800/33600 (86%)\tLoss: 0.027483\n",
      "Train Epoch: 3 --> 32000/33600 (95%)\tLoss: 0.017225\n",
      "\n",
      "Loss: 0.0312 \t Val Accuracy: 8315/8400 (98.988%)\n",
      "\n",
      "Train Epoch: 4 --> 3200/33600 (10%)\tLoss: 0.013474\n",
      "Train Epoch: 4 --> 6400/33600 (19%)\tLoss: 0.033154\n",
      "Train Epoch: 4 --> 9600/33600 (29%)\tLoss: 0.091850\n",
      "Train Epoch: 4 --> 12800/33600 (38%)\tLoss: 0.018651\n",
      "Train Epoch: 4 --> 16000/33600 (48%)\tLoss: 0.004102\n",
      "Train Epoch: 4 --> 19200/33600 (57%)\tLoss: 0.092729\n",
      "Train Epoch: 4 --> 22400/33600 (67%)\tLoss: 0.004713\n",
      "Train Epoch: 4 --> 25600/33600 (76%)\tLoss: 0.002791\n",
      "Train Epoch: 4 --> 28800/33600 (86%)\tLoss: 0.022588\n",
      "Train Epoch: 4 --> 32000/33600 (95%)\tLoss: 0.049515\n",
      "\n",
      "Loss: 0.0345 \t Val Accuracy: 8308/8400 (98.905%)\n",
      "\n",
      "Train Epoch: 5 --> 3200/33600 (10%)\tLoss: 0.114439\n",
      "Train Epoch: 5 --> 6400/33600 (19%)\tLoss: 0.007148\n",
      "Train Epoch: 5 --> 9600/33600 (29%)\tLoss: 0.031287\n",
      "Train Epoch: 5 --> 12800/33600 (38%)\tLoss: 0.189060\n",
      "Train Epoch: 5 --> 16000/33600 (48%)\tLoss: 0.057765\n",
      "Train Epoch: 5 --> 19200/33600 (57%)\tLoss: 0.068043\n",
      "Train Epoch: 5 --> 22400/33600 (67%)\tLoss: 0.012704\n",
      "Train Epoch: 5 --> 25600/33600 (76%)\tLoss: 0.200507\n",
      "Train Epoch: 5 --> 28800/33600 (86%)\tLoss: 0.088626\n",
      "Train Epoch: 5 --> 32000/33600 (95%)\tLoss: 0.028341\n",
      "\n",
      "Loss: 0.0315 \t Val Accuracy: 8317/8400 (99.012%)\n",
      "\n",
      "Train Epoch: 6 --> 3200/33600 (10%)\tLoss: 0.206115\n",
      "Train Epoch: 6 --> 6400/33600 (19%)\tLoss: 0.034000\n",
      "Train Epoch: 6 --> 9600/33600 (29%)\tLoss: 0.054537\n",
      "Train Epoch: 6 --> 12800/33600 (38%)\tLoss: 0.006013\n",
      "Train Epoch: 6 --> 16000/33600 (48%)\tLoss: 0.140709\n",
      "Train Epoch: 6 --> 19200/33600 (57%)\tLoss: 0.004081\n",
      "Train Epoch: 6 --> 22400/33600 (67%)\tLoss: 0.006159\n",
      "Train Epoch: 6 --> 25600/33600 (76%)\tLoss: 0.109524\n",
      "Train Epoch: 6 --> 28800/33600 (86%)\tLoss: 0.008264\n",
      "Train Epoch: 6 --> 32000/33600 (95%)\tLoss: 0.013297\n",
      "\n",
      "Loss: 0.0243 \t Val Accuracy: 8336/8400 (99.238%)\n",
      "\n",
      "Train Epoch: 7 --> 3200/33600 (10%)\tLoss: 0.012182\n",
      "Train Epoch: 7 --> 6400/33600 (19%)\tLoss: 0.090794\n",
      "Train Epoch: 7 --> 9600/33600 (29%)\tLoss: 0.018218\n",
      "Train Epoch: 7 --> 12800/33600 (38%)\tLoss: 0.031156\n",
      "Train Epoch: 7 --> 16000/33600 (48%)\tLoss: 0.005141\n",
      "Train Epoch: 7 --> 19200/33600 (57%)\tLoss: 0.022401\n",
      "Train Epoch: 7 --> 22400/33600 (67%)\tLoss: 0.093927\n",
      "Train Epoch: 7 --> 25600/33600 (76%)\tLoss: 0.044910\n",
      "Train Epoch: 7 --> 28800/33600 (86%)\tLoss: 0.060716\n",
      "Train Epoch: 7 --> 32000/33600 (95%)\tLoss: 0.011201\n",
      "\n",
      "Loss: 0.0163 \t Val Accuracy: 8355/8400 (99.464%)\n",
      "\n",
      "Train Epoch: 8 --> 3200/33600 (10%)\tLoss: 0.089761\n",
      "Train Epoch: 8 --> 6400/33600 (19%)\tLoss: 0.001011\n",
      "Train Epoch: 8 --> 9600/33600 (29%)\tLoss: 0.021346\n",
      "Train Epoch: 8 --> 12800/33600 (38%)\tLoss: 0.016522\n",
      "Train Epoch: 8 --> 16000/33600 (48%)\tLoss: 0.031541\n",
      "Train Epoch: 8 --> 19200/33600 (57%)\tLoss: 0.002728\n",
      "Train Epoch: 8 --> 22400/33600 (67%)\tLoss: 0.086053\n",
      "Train Epoch: 8 --> 25600/33600 (76%)\tLoss: 0.145450\n",
      "Train Epoch: 8 --> 28800/33600 (86%)\tLoss: 0.001731\n",
      "Train Epoch: 8 --> 32000/33600 (95%)\tLoss: 0.005994\n",
      "\n",
      "Loss: 0.0155 \t Val Accuracy: 8355/8400 (99.464%)\n",
      "\n",
      "Train Epoch: 9 --> 3200/33600 (10%)\tLoss: 0.002070\n",
      "Train Epoch: 9 --> 6400/33600 (19%)\tLoss: 0.002453\n",
      "Train Epoch: 9 --> 9600/33600 (29%)\tLoss: 0.031964\n",
      "Train Epoch: 9 --> 12800/33600 (38%)\tLoss: 0.052267\n",
      "Train Epoch: 9 --> 16000/33600 (48%)\tLoss: 0.016079\n",
      "Train Epoch: 9 --> 19200/33600 (57%)\tLoss: 0.009474\n",
      "Train Epoch: 9 --> 22400/33600 (67%)\tLoss: 0.049239\n",
      "Train Epoch: 9 --> 25600/33600 (76%)\tLoss: 0.210025\n",
      "Train Epoch: 9 --> 28800/33600 (86%)\tLoss: 0.002450\n",
      "Train Epoch: 9 --> 32000/33600 (95%)\tLoss: 0.021756\n",
      "\n",
      "Loss: 0.0158 \t Val Accuracy: 8359/8400 (99.512%)\n",
      "\n",
      "Train Epoch: 10 --> 3200/33600 (10%)\tLoss: 0.005660\n",
      "Train Epoch: 10 --> 6400/33600 (19%)\tLoss: 0.001216\n",
      "Train Epoch: 10 --> 9600/33600 (29%)\tLoss: 0.002831\n",
      "Train Epoch: 10 --> 12800/33600 (38%)\tLoss: 0.021810\n",
      "Train Epoch: 10 --> 16000/33600 (48%)\tLoss: 0.089060\n",
      "Train Epoch: 10 --> 19200/33600 (57%)\tLoss: 0.069256\n",
      "Train Epoch: 10 --> 22400/33600 (67%)\tLoss: 0.001240\n",
      "Train Epoch: 10 --> 25600/33600 (76%)\tLoss: 0.000956\n",
      "Train Epoch: 10 --> 28800/33600 (86%)\tLoss: 0.002182\n",
      "Train Epoch: 10 --> 32000/33600 (95%)\tLoss: 0.014770\n",
      "\n",
      "Loss: 0.0158 \t Val Accuracy: 8356/8400 (99.476%)\n",
      "\n",
      "Train Epoch: 11 --> 3200/33600 (10%)\tLoss: 0.001655\n",
      "Train Epoch: 11 --> 6400/33600 (19%)\tLoss: 0.033295\n",
      "Train Epoch: 11 --> 9600/33600 (29%)\tLoss: 0.076176\n",
      "Train Epoch: 11 --> 12800/33600 (38%)\tLoss: 0.004574\n",
      "Train Epoch: 11 --> 16000/33600 (48%)\tLoss: 0.208486\n",
      "Train Epoch: 11 --> 19200/33600 (57%)\tLoss: 0.129484\n",
      "Train Epoch: 11 --> 22400/33600 (67%)\tLoss: 0.002288\n",
      "Train Epoch: 11 --> 25600/33600 (76%)\tLoss: 0.004041\n",
      "Train Epoch: 11 --> 28800/33600 (86%)\tLoss: 0.025892\n",
      "Train Epoch: 11 --> 32000/33600 (95%)\tLoss: 0.019941\n",
      "\n",
      "Loss: 0.0148 \t Val Accuracy: 8357/8400 (99.488%)\n",
      "\n",
      "Train Epoch: 12 --> 3200/33600 (10%)\tLoss: 0.000806\n",
      "Train Epoch: 12 --> 6400/33600 (19%)\tLoss: 0.012818\n",
      "Train Epoch: 12 --> 9600/33600 (29%)\tLoss: 0.007162\n",
      "Train Epoch: 12 --> 12800/33600 (38%)\tLoss: 0.000851\n",
      "Train Epoch: 12 --> 16000/33600 (48%)\tLoss: 0.019686\n",
      "Train Epoch: 12 --> 19200/33600 (57%)\tLoss: 0.010721\n",
      "Train Epoch: 12 --> 22400/33600 (67%)\tLoss: 0.023107\n",
      "Train Epoch: 12 --> 25600/33600 (76%)\tLoss: 0.052635\n",
      "Train Epoch: 12 --> 28800/33600 (86%)\tLoss: 0.019973\n",
      "Train Epoch: 12 --> 32000/33600 (95%)\tLoss: 0.034724\n",
      "\n",
      "Loss: 0.0160 \t Val Accuracy: 8358/8400 (99.500%)\n",
      "\n",
      "Train Epoch: 13 --> 3200/33600 (10%)\tLoss: 0.004281\n",
      "Train Epoch: 13 --> 6400/33600 (19%)\tLoss: 0.002687\n",
      "Train Epoch: 13 --> 9600/33600 (29%)\tLoss: 0.192915\n",
      "Train Epoch: 13 --> 12800/33600 (38%)\tLoss: 0.007465\n",
      "Train Epoch: 13 --> 16000/33600 (48%)\tLoss: 0.014594\n",
      "Train Epoch: 13 --> 19200/33600 (57%)\tLoss: 0.012204\n",
      "Train Epoch: 13 --> 22400/33600 (67%)\tLoss: 0.034061\n",
      "Train Epoch: 13 --> 25600/33600 (76%)\tLoss: 0.003079\n",
      "Train Epoch: 13 --> 28800/33600 (86%)\tLoss: 0.015786\n",
      "Train Epoch: 13 --> 32000/33600 (95%)\tLoss: 0.009331\n",
      "\n",
      "Loss: 0.0158 \t Val Accuracy: 8357/8400 (99.488%)\n",
      "\n",
      "Train Epoch: 14 --> 3200/33600 (10%)\tLoss: 0.054592\n",
      "Train Epoch: 14 --> 6400/33600 (19%)\tLoss: 0.000362\n",
      "Train Epoch: 14 --> 9600/33600 (29%)\tLoss: 0.028227\n",
      "Train Epoch: 14 --> 12800/33600 (38%)\tLoss: 0.015995\n",
      "Train Epoch: 14 --> 16000/33600 (48%)\tLoss: 0.074326\n",
      "Train Epoch: 14 --> 19200/33600 (57%)\tLoss: 0.006517\n",
      "Train Epoch: 14 --> 22400/33600 (67%)\tLoss: 0.001867\n",
      "Train Epoch: 14 --> 25600/33600 (76%)\tLoss: 0.001845\n",
      "Train Epoch: 14 --> 28800/33600 (86%)\tLoss: 0.091330\n",
      "Train Epoch: 14 --> 32000/33600 (95%)\tLoss: 0.000919\n",
      "\n",
      "Loss: 0.0152 \t Val Accuracy: 8361/8400 (99.536%)\n",
      "\n",
      "Train Epoch: 15 --> 3200/33600 (10%)\tLoss: 0.022076\n",
      "Train Epoch: 15 --> 6400/33600 (19%)\tLoss: 0.020047\n",
      "Train Epoch: 15 --> 9600/33600 (29%)\tLoss: 0.134503\n",
      "Train Epoch: 15 --> 12800/33600 (38%)\tLoss: 0.078108\n",
      "Train Epoch: 15 --> 16000/33600 (48%)\tLoss: 0.009098\n",
      "Train Epoch: 15 --> 19200/33600 (57%)\tLoss: 0.009177\n",
      "Train Epoch: 15 --> 22400/33600 (67%)\tLoss: 0.033694\n",
      "Train Epoch: 15 --> 25600/33600 (76%)\tLoss: 0.040777\n",
      "Train Epoch: 15 --> 28800/33600 (86%)\tLoss: 0.004583\n",
      "Train Epoch: 15 --> 32000/33600 (95%)\tLoss: 0.097801\n",
      "\n",
      "Loss: 0.0152 \t Val Accuracy: 8361/8400 (99.536%)\n",
      "\n",
      "Train Epoch: 16 --> 3200/33600 (10%)\tLoss: 0.005310\n",
      "Train Epoch: 16 --> 6400/33600 (19%)\tLoss: 0.021085\n",
      "Train Epoch: 16 --> 9600/33600 (29%)\tLoss: 0.000407\n",
      "Train Epoch: 16 --> 12800/33600 (38%)\tLoss: 0.157212\n",
      "Train Epoch: 16 --> 16000/33600 (48%)\tLoss: 0.014205\n",
      "Train Epoch: 16 --> 19200/33600 (57%)\tLoss: 0.028457\n",
      "Train Epoch: 16 --> 22400/33600 (67%)\tLoss: 0.007474\n",
      "Train Epoch: 16 --> 25600/33600 (76%)\tLoss: 0.003545\n",
      "Train Epoch: 16 --> 28800/33600 (86%)\tLoss: 0.002118\n",
      "Train Epoch: 16 --> 32000/33600 (95%)\tLoss: 0.000268\n",
      "\n",
      "Loss: 0.0154 \t Val Accuracy: 8358/8400 (99.500%)\n",
      "\n",
      "Train Epoch: 17 --> 3200/33600 (10%)\tLoss: 0.002015\n",
      "Train Epoch: 17 --> 6400/33600 (19%)\tLoss: 0.000816\n",
      "Train Epoch: 17 --> 9600/33600 (29%)\tLoss: 0.001913\n",
      "Train Epoch: 17 --> 12800/33600 (38%)\tLoss: 0.004791\n",
      "Train Epoch: 17 --> 16000/33600 (48%)\tLoss: 0.011393\n",
      "Train Epoch: 17 --> 19200/33600 (57%)\tLoss: 0.006299\n",
      "Train Epoch: 17 --> 22400/33600 (67%)\tLoss: 0.007009\n",
      "Train Epoch: 17 --> 25600/33600 (76%)\tLoss: 0.051664\n",
      "Train Epoch: 17 --> 28800/33600 (86%)\tLoss: 0.000547\n",
      "Train Epoch: 17 --> 32000/33600 (95%)\tLoss: 0.011603\n",
      "\n",
      "Loss: 0.0149 \t Val Accuracy: 8362/8400 (99.548%)\n",
      "\n",
      "Train Epoch: 18 --> 3200/33600 (10%)\tLoss: 0.001037\n",
      "Train Epoch: 18 --> 6400/33600 (19%)\tLoss: 0.000606\n",
      "Train Epoch: 18 --> 9600/33600 (29%)\tLoss: 0.001758\n",
      "Train Epoch: 18 --> 12800/33600 (38%)\tLoss: 0.015825\n",
      "Train Epoch: 18 --> 16000/33600 (48%)\tLoss: 0.002914\n",
      "Train Epoch: 18 --> 19200/33600 (57%)\tLoss: 0.005721\n",
      "Train Epoch: 18 --> 22400/33600 (67%)\tLoss: 0.017819\n",
      "Train Epoch: 18 --> 25600/33600 (76%)\tLoss: 0.001185\n",
      "Train Epoch: 18 --> 28800/33600 (86%)\tLoss: 0.000885\n",
      "Train Epoch: 18 --> 32000/33600 (95%)\tLoss: 0.020751\n",
      "\n",
      "Loss: 0.0155 \t Val Accuracy: 8361/8400 (99.536%)\n",
      "\n",
      "Train Epoch: 19 --> 3200/33600 (10%)\tLoss: 0.002262\n",
      "Train Epoch: 19 --> 6400/33600 (19%)\tLoss: 0.000636\n",
      "Train Epoch: 19 --> 9600/33600 (29%)\tLoss: 0.000542\n",
      "Train Epoch: 19 --> 12800/33600 (38%)\tLoss: 0.019371\n",
      "Train Epoch: 19 --> 16000/33600 (48%)\tLoss: 0.012175\n",
      "Train Epoch: 19 --> 19200/33600 (57%)\tLoss: 0.023220\n",
      "Train Epoch: 19 --> 22400/33600 (67%)\tLoss: 0.000877\n",
      "Train Epoch: 19 --> 25600/33600 (76%)\tLoss: 0.001595\n",
      "Train Epoch: 19 --> 28800/33600 (86%)\tLoss: 0.004714\n",
      "Train Epoch: 19 --> 32000/33600 (95%)\tLoss: 0.153671\n",
      "\n",
      "Loss: 0.0152 \t Val Accuracy: 8361/8400 (99.536%)\n",
      "\n",
      "Train Epoch: 20 --> 3200/33600 (10%)\tLoss: 0.024304\n",
      "Train Epoch: 20 --> 6400/33600 (19%)\tLoss: 0.058661\n",
      "Train Epoch: 20 --> 9600/33600 (29%)\tLoss: 0.169429\n",
      "Train Epoch: 20 --> 12800/33600 (38%)\tLoss: 0.000649\n",
      "Train Epoch: 20 --> 16000/33600 (48%)\tLoss: 0.002147\n",
      "Train Epoch: 20 --> 19200/33600 (57%)\tLoss: 0.000977\n",
      "Train Epoch: 20 --> 22400/33600 (67%)\tLoss: 0.076993\n",
      "Train Epoch: 20 --> 25600/33600 (76%)\tLoss: 0.000931\n",
      "Train Epoch: 20 --> 28800/33600 (86%)\tLoss: 0.001398\n",
      "Train Epoch: 20 --> 32000/33600 (95%)\tLoss: 0.001413\n",
      "\n",
      "Loss: 0.0153 \t Val Accuracy: 8361/8400 (99.536%)\n",
      "\n",
      "Train Epoch: 21 --> 3200/33600 (10%)\tLoss: 0.017779\n",
      "Train Epoch: 21 --> 6400/33600 (19%)\tLoss: 0.062290\n",
      "Train Epoch: 21 --> 9600/33600 (29%)\tLoss: 0.000712\n",
      "Train Epoch: 21 --> 12800/33600 (38%)\tLoss: 0.007427\n",
      "Train Epoch: 21 --> 16000/33600 (48%)\tLoss: 0.000981\n",
      "Train Epoch: 21 --> 19200/33600 (57%)\tLoss: 0.006048\n",
      "Train Epoch: 21 --> 22400/33600 (67%)\tLoss: 0.005156\n",
      "Train Epoch: 21 --> 25600/33600 (76%)\tLoss: 0.004312\n",
      "Train Epoch: 21 --> 28800/33600 (86%)\tLoss: 0.008384\n",
      "Train Epoch: 21 --> 32000/33600 (95%)\tLoss: 0.007436\n",
      "\n",
      "Loss: 0.0150 \t Val Accuracy: 8365/8400 (99.583%)\n",
      "\n",
      "Train Epoch: 22 --> 3200/33600 (10%)\tLoss: 0.062978\n",
      "Train Epoch: 22 --> 6400/33600 (19%)\tLoss: 0.000636\n",
      "Train Epoch: 22 --> 9600/33600 (29%)\tLoss: 0.004909\n",
      "Train Epoch: 22 --> 12800/33600 (38%)\tLoss: 0.018046\n",
      "Train Epoch: 22 --> 16000/33600 (48%)\tLoss: 0.003862\n",
      "Train Epoch: 22 --> 19200/33600 (57%)\tLoss: 0.270492\n",
      "Train Epoch: 22 --> 22400/33600 (67%)\tLoss: 0.031051\n",
      "Train Epoch: 22 --> 25600/33600 (76%)\tLoss: 0.490205\n",
      "Train Epoch: 22 --> 28800/33600 (86%)\tLoss: 0.015876\n",
      "Train Epoch: 22 --> 32000/33600 (95%)\tLoss: 0.020657\n",
      "\n",
      "Loss: 0.0150 \t Val Accuracy: 8361/8400 (99.536%)\n",
      "\n",
      "Train Epoch: 23 --> 3200/33600 (10%)\tLoss: 0.014698\n",
      "Train Epoch: 23 --> 6400/33600 (19%)\tLoss: 0.031701\n",
      "Train Epoch: 23 --> 9600/33600 (29%)\tLoss: 0.005152\n",
      "Train Epoch: 23 --> 12800/33600 (38%)\tLoss: 0.035478\n",
      "Train Epoch: 23 --> 16000/33600 (48%)\tLoss: 0.000135\n",
      "Train Epoch: 23 --> 19200/33600 (57%)\tLoss: 0.003326\n",
      "Train Epoch: 23 --> 22400/33600 (67%)\tLoss: 0.034777\n",
      "Train Epoch: 23 --> 25600/33600 (76%)\tLoss: 0.028897\n",
      "Train Epoch: 23 --> 28800/33600 (86%)\tLoss: 0.003670\n",
      "Train Epoch: 23 --> 32000/33600 (95%)\tLoss: 0.006958\n",
      "\n",
      "Loss: 0.0150 \t Val Accuracy: 8361/8400 (99.536%)\n",
      "\n",
      "Train Epoch: 24 --> 3200/33600 (10%)\tLoss: 0.003618\n",
      "Train Epoch: 24 --> 6400/33600 (19%)\tLoss: 0.001034\n",
      "Train Epoch: 24 --> 9600/33600 (29%)\tLoss: 0.004151\n",
      "Train Epoch: 24 --> 12800/33600 (38%)\tLoss: 0.012924\n",
      "Train Epoch: 24 --> 16000/33600 (48%)\tLoss: 0.000472\n",
      "Train Epoch: 24 --> 19200/33600 (57%)\tLoss: 0.001348\n",
      "Train Epoch: 24 --> 22400/33600 (67%)\tLoss: 0.008346\n",
      "Train Epoch: 24 --> 25600/33600 (76%)\tLoss: 0.000483\n",
      "Train Epoch: 24 --> 28800/33600 (86%)\tLoss: 0.000457\n",
      "Train Epoch: 24 --> 32000/33600 (95%)\tLoss: 0.001861\n",
      "\n",
      "Loss: 0.0148 \t Val Accuracy: 8359/8400 (99.512%)\n",
      "\n",
      "Train Epoch: 25 --> 3200/33600 (10%)\tLoss: 0.001621\n",
      "Train Epoch: 25 --> 6400/33600 (19%)\tLoss: 0.000919\n",
      "Train Epoch: 25 --> 9600/33600 (29%)\tLoss: 0.024179\n",
      "Train Epoch: 25 --> 12800/33600 (38%)\tLoss: 0.002567\n",
      "Train Epoch: 25 --> 16000/33600 (48%)\tLoss: 0.001980\n",
      "Train Epoch: 25 --> 19200/33600 (57%)\tLoss: 0.002856\n",
      "Train Epoch: 25 --> 22400/33600 (67%)\tLoss: 0.000680\n",
      "Train Epoch: 25 --> 25600/33600 (76%)\tLoss: 0.000237\n",
      "Train Epoch: 25 --> 28800/33600 (86%)\tLoss: 0.002466\n",
      "Train Epoch: 25 --> 32000/33600 (95%)\tLoss: 0.000715\n",
      "\n",
      "Loss: 0.0148 \t Val Accuracy: 8363/8400 (99.560%)\n",
      "\n",
      "Train Epoch: 26 --> 3200/33600 (10%)\tLoss: 0.005957\n",
      "Train Epoch: 26 --> 6400/33600 (19%)\tLoss: 0.036569\n",
      "Train Epoch: 26 --> 9600/33600 (29%)\tLoss: 0.000100\n",
      "Train Epoch: 26 --> 12800/33600 (38%)\tLoss: 0.000813\n",
      "Train Epoch: 26 --> 16000/33600 (48%)\tLoss: 0.001646\n",
      "Train Epoch: 26 --> 19200/33600 (57%)\tLoss: 0.088921\n",
      "Train Epoch: 26 --> 22400/33600 (67%)\tLoss: 0.002661\n",
      "Train Epoch: 26 --> 25600/33600 (76%)\tLoss: 0.026945\n",
      "Train Epoch: 26 --> 28800/33600 (86%)\tLoss: 0.090180\n",
      "Train Epoch: 26 --> 32000/33600 (95%)\tLoss: 0.001212\n",
      "\n",
      "Loss: 0.0150 \t Val Accuracy: 8362/8400 (99.548%)\n",
      "\n",
      "Train Epoch: 27 --> 3200/33600 (10%)\tLoss: 0.001439\n",
      "Train Epoch: 27 --> 6400/33600 (19%)\tLoss: 0.000640\n",
      "Train Epoch: 27 --> 9600/33600 (29%)\tLoss: 0.001875\n",
      "Train Epoch: 27 --> 12800/33600 (38%)\tLoss: 0.023317\n",
      "Train Epoch: 27 --> 16000/33600 (48%)\tLoss: 0.002127\n",
      "Train Epoch: 27 --> 19200/33600 (57%)\tLoss: 0.000391\n",
      "Train Epoch: 27 --> 22400/33600 (67%)\tLoss: 0.114872\n",
      "Train Epoch: 27 --> 25600/33600 (76%)\tLoss: 0.002162\n",
      "Train Epoch: 27 --> 28800/33600 (86%)\tLoss: 0.021562\n",
      "Train Epoch: 27 --> 32000/33600 (95%)\tLoss: 0.007403\n",
      "\n",
      "Loss: 0.0150 \t Val Accuracy: 8361/8400 (99.536%)\n",
      "\n",
      "Train Epoch: 28 --> 3200/33600 (10%)\tLoss: 0.078728\n",
      "Train Epoch: 28 --> 6400/33600 (19%)\tLoss: 0.008004\n",
      "Train Epoch: 28 --> 9600/33600 (29%)\tLoss: 0.005641\n",
      "Train Epoch: 28 --> 12800/33600 (38%)\tLoss: 0.001705\n",
      "Train Epoch: 28 --> 16000/33600 (48%)\tLoss: 0.001028\n",
      "Train Epoch: 28 --> 19200/33600 (57%)\tLoss: 0.004214\n",
      "Train Epoch: 28 --> 22400/33600 (67%)\tLoss: 0.000546\n",
      "Train Epoch: 28 --> 25600/33600 (76%)\tLoss: 0.000314\n",
      "Train Epoch: 28 --> 28800/33600 (86%)\tLoss: 0.243856\n",
      "Train Epoch: 28 --> 32000/33600 (95%)\tLoss: 0.027079\n",
      "\n",
      "Loss: 0.0154 \t Val Accuracy: 8361/8400 (99.536%)\n",
      "\n",
      "Train Epoch: 29 --> 3200/33600 (10%)\tLoss: 0.053750\n",
      "Train Epoch: 29 --> 6400/33600 (19%)\tLoss: 0.000866\n",
      "Train Epoch: 29 --> 9600/33600 (29%)\tLoss: 0.001072\n",
      "Train Epoch: 29 --> 12800/33600 (38%)\tLoss: 0.027295\n",
      "Train Epoch: 29 --> 16000/33600 (48%)\tLoss: 0.000267\n",
      "Train Epoch: 29 --> 19200/33600 (57%)\tLoss: 0.161084\n",
      "Train Epoch: 29 --> 22400/33600 (67%)\tLoss: 0.046268\n",
      "Train Epoch: 29 --> 25600/33600 (76%)\tLoss: 0.040743\n",
      "Train Epoch: 29 --> 28800/33600 (86%)\tLoss: 0.025336\n",
      "Train Epoch: 29 --> 32000/33600 (95%)\tLoss: 0.014875\n",
      "\n",
      "Loss: 0.0146 \t Val Accuracy: 8363/8400 (99.560%)\n",
      "\n",
      "Train Epoch: 30 --> 3200/33600 (10%)\tLoss: 0.000509\n",
      "Train Epoch: 30 --> 6400/33600 (19%)\tLoss: 0.093469\n",
      "Train Epoch: 30 --> 9600/33600 (29%)\tLoss: 0.025526\n",
      "Train Epoch: 30 --> 12800/33600 (38%)\tLoss: 0.076144\n",
      "Train Epoch: 30 --> 16000/33600 (48%)\tLoss: 0.040111\n",
      "Train Epoch: 30 --> 19200/33600 (57%)\tLoss: 0.000628\n",
      "Train Epoch: 30 --> 22400/33600 (67%)\tLoss: 0.002704\n",
      "Train Epoch: 30 --> 25600/33600 (76%)\tLoss: 0.005883\n",
      "Train Epoch: 30 --> 28800/33600 (86%)\tLoss: 0.002694\n",
      "Train Epoch: 30 --> 32000/33600 (95%)\tLoss: 0.004369\n",
      "\n",
      "Loss: 0.0151 \t Val Accuracy: 8360/8400 (99.524%)\n",
      "\n"
     ]
    }
   ],
   "source": [
    "for i in range(30):\n",
    "    train(i)\n",
    "    evaluate(val_loader)"
   ],
   "metadata": {
    "collapsed": false,
    "pycharm": {
     "name": "#%%\n"
    }
   }
  },
  {
   "cell_type": "code",
   "execution_count": 34,
   "outputs": [],
   "source": [
    "model.eval()\n",
    "predictions = torch.LongTensor()\n",
    "\n",
    "for i, data in enumerate(test_loader):\n",
    "    data = data.unsqueeze(1)\n",
    "    data = data.cuda()\n",
    "\n",
    "    output = model(data)\n",
    "    pred = output.cpu().data.max(1, keepdim=True)[1]\n",
    "    predictions = torch.cat((predictions, pred), dim=0)"
   ],
   "metadata": {
    "collapsed": false,
    "pycharm": {
     "name": "#%%\n"
    }
   }
  },
  {
   "cell_type": "code",
   "execution_count": 35,
   "outputs": [
    {
     "data": {
      "text/plain": "   ImageId  Label\n0        1      2\n1        2      0\n2        3      9\n3        4      0\n4        5      3",
      "text/html": "<div>\n<style scoped>\n    .dataframe tbody tr th:only-of-type {\n        vertical-align: middle;\n    }\n\n    .dataframe tbody tr th {\n        vertical-align: top;\n    }\n\n    .dataframe thead th {\n        text-align: right;\n    }\n</style>\n<table border=\"1\" class=\"dataframe\">\n  <thead>\n    <tr style=\"text-align: right;\">\n      <th></th>\n      <th>ImageId</th>\n      <th>Label</th>\n    </tr>\n  </thead>\n  <tbody>\n    <tr>\n      <th>0</th>\n      <td>1</td>\n      <td>2</td>\n    </tr>\n    <tr>\n      <th>1</th>\n      <td>2</td>\n      <td>0</td>\n    </tr>\n    <tr>\n      <th>2</th>\n      <td>3</td>\n      <td>9</td>\n    </tr>\n    <tr>\n      <th>3</th>\n      <td>4</td>\n      <td>0</td>\n    </tr>\n    <tr>\n      <th>4</th>\n      <td>5</td>\n      <td>3</td>\n    </tr>\n  </tbody>\n</table>\n</div>"
     },
     "execution_count": 35,
     "metadata": {},
     "output_type": "execute_result"
    }
   ],
   "source": [
    "submission = pd.read_csv('./Data/sample_submission.csv')\n",
    "submission['Label'] = predictions.numpy().squeeze()\n",
    "submission.head()\n"
   ],
   "metadata": {
    "collapsed": false,
    "pycharm": {
     "name": "#%%\n"
    }
   }
  },
  {
   "cell_type": "code",
   "execution_count": 36,
   "outputs": [],
   "source": [
    "submission.to_csv('submission.csv', index=False)"
   ],
   "metadata": {
    "collapsed": false,
    "pycharm": {
     "name": "#%%\n"
    }
   }
  },
  {
   "cell_type": "markdown",
   "source": [
    "Submission Accuracy: 99.442% <br>\n",
    "Submission Rank: 547 / 3059\n"
   ],
   "metadata": {
    "collapsed": false,
    "pycharm": {
     "name": "#%% md\n"
    }
   }
  }
 ],
 "metadata": {
  "kernelspec": {
   "name": "deeplearning",
   "language": "python",
   "display_name": "DeepLearning"
  },
  "language_info": {
   "codemirror_mode": {
    "name": "ipython",
    "version": 2
   },
   "file_extension": ".py",
   "mimetype": "text/x-python",
   "name": "python",
   "nbconvert_exporter": "python",
   "pygments_lexer": "ipython2",
   "version": "2.7.6"
  }
 },
 "nbformat": 4,
 "nbformat_minor": 0
}