{
 "cells": [
  {
   "cell_type": "code",
   "execution_count": null,
   "metadata": {},
   "outputs": [],
   "source": [
    "import torch\n",
    "from torch import nn\n",
    "from torch import optim\n",
    "from torch.utils.data import Subset, DataLoader\n",
    "\n",
    "import torchvision\n",
    "from torchvision import utils\n",
    "from torchvision import models\n",
    "from torchvision import datasets\n",
    "from torchvision import transforms\n",
    "\n",
    "from torchsummary import summary\n",
    "from sklearn.model_selection import StratifiedShuffleSplit\n",
    "\n",
    "import os\n",
    "import copy\n",
    "import yaml\n",
    "import collections\n",
    "import numpy as np\n",
    "import matplotlib.pyplot as plt\n",
    "\n",
    "torch.manual_seed(0)\n",
    "np.random.seed(0)"
   ]
  },
  {
   "cell_type": "code",
   "execution_count": null,
   "outputs": [],
   "source": [
    "with open('hyperparameters.yaml') as f:\n",
    "    hp = yaml.safe_load(f)['hyperparameters']"
   ],
   "metadata": {
    "collapsed": false,
    "pycharm": {
     "name": "#%%\n"
    }
   }
  },
  {
   "cell_type": "code",
   "execution_count": null,
   "outputs": [],
   "source": [
    "data_transformer = transforms.Compose([\n",
    "    transforms.ToTensor()\n",
    "])\n",
    "\n",
    "train_ds = datasets.STL10('./data', split='train', download=True,transform=data_transformer)\n",
    "train_ds.data.shape"
   ],
   "metadata": {
    "collapsed": false,
    "pycharm": {
     "name": "#%%\n"
    }
   }
  },
  {
   "cell_type": "code",
   "execution_count": null,
   "metadata": {},
   "outputs": [],
   "source": [
    "y_train = [y for _,y in train_ds]\n",
    "counter_train = collections.Counter(y_train)\n",
    "counter_train"
   ]
  },
  {
   "cell_type": "code",
   "execution_count": null,
   "metadata": {},
   "outputs": [],
   "source": [
    "test0_ds = datasets.STL10('./data', split='test', download=True,transform=data_transformer)\n",
    "test0_ds.data.shape"
   ]
  },
  {
   "cell_type": "code",
   "execution_count": null,
   "metadata": {},
   "outputs": [],
   "source": [
    "shuffle = StratifiedShuffleSplit(n_splits=1, test_size=0.2, random_state=0)\n",
    "\n",
    "indices = list(range(len(test0_ds)))\n",
    "y_test0 = [y for _,y in test0_ds]\n",
    "for test_index, val_index in shuffle.split(indices, y_test0):\n",
    "    print(\"test:\", test_index, \"val:\", val_index)\n",
    "    print(len(val_index),len(test_index))"
   ]
  },
  {
   "cell_type": "code",
   "execution_count": null,
   "metadata": {},
   "outputs": [],
   "source": [
    "val_ds = Subset(test0_ds,val_index)\n",
    "test_ds = Subset(test0_ds,test_index)\n",
    "\n",
    "print(len(val_ds))\n",
    "print(len(test_ds))"
   ]
  },
  {
   "cell_type": "code",
   "execution_count": null,
   "metadata": {},
   "outputs": [],
   "source": [
    "y_test = [y for _,y in test_ds]\n",
    "y_val = [y for _,y in val_ds]\n",
    "\n",
    "counter_test = collections.Counter(y_test)\n",
    "counter_val = collections.Counter(y_val)\n",
    "\n",
    "print(counter_val)\n",
    "print(counter_test)"
   ]
  },
  {
   "cell_type": "code",
   "execution_count": null,
   "metadata": {},
   "outputs": [],
   "source": [
    "np.random.seed(0)\n",
    "\n",
    "def show(img, label=None):\n",
    "    img = img.numpy()\n",
    "    img = img.transpose(1, 2, 0)\n",
    "    plt.imshow(img)\n",
    "    if label is not None:\n",
    "        plt.title(label)\n",
    "\n",
    "img_idx = np.random.randint(0, len(train_ds), 4)\n",
    "\n",
    "img_X = [train_ds[i][0] for i in img_idx]\n",
    "img_y = [train_ds[i][1] for i in img_idx]\n",
    "grid = utils.make_grid(img_X, nrow=4, padding=1)\n",
    "\n",
    "plt.figure(figsize=(10, 10))\n",
    "show(grid, img_y)"
   ]
  },
  {
   "cell_type": "code",
   "execution_count": null,
   "metadata": {},
   "outputs": [],
   "source": [
    "np.random.seed(0)\n",
    "\n",
    "img_idx_v = np.random.randint(0, len(val_ds), 4)\n",
    "\n",
    "img_X_v = [val_ds[i][0] for i in img_idx_v]\n",
    "img_y_v = [val_ds[i][1] for i in img_idx_v]\n",
    "grid_v = utils.make_grid(img_X_v, nrow=4, padding=1)\n",
    "\n",
    "plt.figure(figsize=(10, 10))\n",
    "show(grid_v, img_y_v)"
   ]
  },
  {
   "cell_type": "code",
   "execution_count": null,
   "metadata": {},
   "outputs": [],
   "source": [
    "mean_rgb = [np.mean(img.numpy(), axis=(1, 2)) for img, _ in train_ds]\n",
    "std_rgb = [np.std(img.numpy(), axis=(1, 2)) for img, _ in train_ds]\n",
    "\n",
    "mean_r, mean_g, mean_b = [np.mean([m[i] for m in mean_rgb]) for i in range(3)]\n",
    "std_r, std_g, std_b = [np.mean([s[i] for s in std_rgb]) for i in range(3)]"
   ]
  },
  {
   "cell_type": "code",
   "execution_count": null,
   "metadata": {},
   "outputs": [],
   "source": [
    "print(f'Mean - R: {mean_r:.4f} G: {mean_g:.4f} B: {mean_b:.4f}')\n",
    "print(f'StdDev - R: {std_r:.4f} G: {std_g:.4f} B: {std_b:.4f}')"
   ]
  },
  {
   "cell_type": "code",
   "execution_count": null,
   "outputs": [],
   "source": [
    "train_transform = transforms.Compose([\n",
    "    transforms.RandomHorizontalFlip(p=0.5)\n",
    "    , transforms.RandomVerticalFlip(p=0.5)\n",
    "    , transforms.ToTensor()\n",
    "    , transforms.Normalize(mean=[mean_r, mean_g, mean_b], std=[std_r, std_g, std_b])\n",
    "])\n",
    "\n",
    "test_transform = transforms.Compose([\n",
    "    transforms.ToTensor()\n",
    "    , transforms.Normalize(mean=[mean_r, mean_g, mean_b], std=[std_r, std_g, std_b])\n",
    "])"
   ],
   "metadata": {
    "collapsed": false,
    "pycharm": {
     "name": "#%%\n"
    }
   }
  },
  {
   "cell_type": "code",
   "execution_count": null,
   "metadata": {},
   "outputs": [],
   "source": [
    "train_ds.transform = train_transform\n",
    "test0_ds.transform = test_transform"
   ]
  },
  {
   "cell_type": "code",
   "execution_count": null,
   "metadata": {},
   "outputs": [],
   "source": [
    "np.random.seed(0)\n",
    "\n",
    "img_idx_n = np.random.randint(0, len(train_ds), 4)\n",
    "\n",
    "img_X_n = [train_ds[i][0] for i in img_idx_n]\n",
    "img_y_n = [train_ds[i][1] for i in img_idx_n]\n",
    "grid_n = utils.make_grid(img_X_n, nrow=4, padding=1)\n",
    "\n",
    "plt.figure(figsize=(10, 10))\n",
    "show(grid_n, img_y_n)"
   ]
  },
  {
   "cell_type": "code",
   "execution_count": null,
   "metadata": {},
   "outputs": [],
   "source": [
    "batch_size = hp['batch_size']\n",
    "\n",
    "train_dl = DataLoader(train_ds, batch_size=batch_size, shuffle=True)\n",
    "val_dl = DataLoader(val_ds, batch_size=batch_size, shuffle=False)"
   ]
  },
  {
   "cell_type": "code",
   "execution_count": null,
   "metadata": {},
   "outputs": [],
   "source": [
    "for data, _ in train_dl:\n",
    "    print(data.shape) # batch size, channels, height, width\n",
    "    break"
   ]
  },
  {
   "cell_type": "code",
   "execution_count": null,
   "metadata": {},
   "outputs": [],
   "source": [
    "net = models.resnet18(pretrained=False).cuda()\n",
    "print(net)"
   ]
  },
  {
   "cell_type": "code",
   "execution_count": null,
   "outputs": [],
   "source": [
    "summary(net, input_size=(3, 96, 96))"
   ],
   "metadata": {
    "collapsed": false,
    "pycharm": {
     "name": "#%%\n"
    }
   }
  },
  {
   "cell_type": "code",
   "execution_count": null,
   "metadata": {},
   "outputs": [],
   "source": [
    "num_classes = 10\n",
    "num_ftrs = net.fc.in_features \n",
    "net.fc = nn.Linear(num_ftrs, num_classes).cuda()"
   ]
  },
  {
   "cell_type": "code",
   "execution_count": null,
   "outputs": [],
   "source": [
    "criterion = nn.CrossEntropyLoss(reduction='sum')\n",
    "optimizer = optim.Adam(params=net.parameters(), lr=0.001)\n",
    "scheduler = optim.lr_scheduler.ReduceLROnPlateau(optimizer, mode='min', factor=0.5, patience=5, verbose=1)"
   ],
   "metadata": {
    "collapsed": false,
    "pycharm": {
     "name": "#%%\n"
    }
   }
  },
  {
   "cell_type": "code",
   "execution_count": null,
   "metadata": {},
   "outputs": [],
   "source": [
    "def batch_accuracy(output: torch.Tensor, target: torch.Tensor):\n",
    "    prediction = output.argmax(dim=1, keepdim=True)\n",
    "    correct = prediction.eq(target.view_as(prediction)).sum().item()\n",
    "    return correct"
   ]
  },
  {
   "cell_type": "code",
   "execution_count": null,
   "metadata": {},
   "outputs": [],
   "source": [
    "def batch_loss(criterion, output, target, optimizer=None):\n",
    "    loss = criterion(output, target)\n",
    "    accuracy = batch_accuracy(output, target)\n",
    "\n",
    "    if optimizer is not None:\n",
    "        optimizer.zero_grad()\n",
    "        loss.backward()\n",
    "        optimizer.step()\n",
    "\n",
    "    return loss.item(), accuracy"
   ]
  },
  {
   "cell_type": "code",
   "execution_count": null,
   "metadata": {},
   "outputs": [],
   "source": [
    "\n",
    "def epoch_loss(net, criterion, dataset, optimizer=None):\n",
    "    total_loss = 0.\n",
    "    total_acc = 0.\n",
    "\n",
    "    for data, target in dataset:\n",
    "        data = data.cuda()\n",
    "        target = target.cuda()\n",
    "\n",
    "        output = net(data)\n",
    "        loss, acc = batch_loss(criterion, output, target, optimizer)\n",
    "        total_loss += loss\n",
    "\n",
    "        if acc is not None:\n",
    "            total_acc += acc\n",
    "\n",
    "    loss = total_loss / float(len(dataset.dataset))\n",
    "    acc = total_acc / float(len(dataset.dataset))\n",
    "\n",
    "    return loss, acc"
   ]
  },
  {
   "cell_type": "code",
   "execution_count": null,
   "metadata": {},
   "outputs": [],
   "source": [
    "params = {\n",
    "    'epochs': hp['epochs'],\n",
    "    'criterion': criterion,\n",
    "    'optimizer': optimizer,\n",
    "    'train_dl': train_dl,\n",
    "    'val_dl': val_dl,\n",
    "    'scheduler': scheduler,\n",
    "    'save_loc': './weights/weights.pt',\n",
    "}\n",
    "\n",
    "history = {\n",
    "    'train': {\n",
    "        'loss': [],\n",
    "        'acc': []\n",
    "    },\n",
    "    'val': {\n",
    "        'loss': [],\n",
    "        'acc': []\n",
    "    }\n",
    "}\n",
    "\n",
    "def train(net, params):\n",
    "    epochs = params['epochs']\n",
    "    criterion = params['criterion']\n",
    "    optimizer = params['optimizer']\n",
    "    train_dl = params['train_dl']\n",
    "    val_dl = params['val_dl']\n",
    "    scheduler = params['scheduler']\n",
    "    save_loc = params['save_loc']\n",
    "    weights = copy.deepcopy(net.state_dict())\n",
    "    best_loss = float('inf')\n",
    "\n",
    "    # train loop\n",
    "    for epoch in range(epochs):\n",
    "        lr = optimizer.param_groups[0]['lr']\n",
    "        print(f'Train Epoch: {epoch + 1}/{epochs}\\tLR: {lr}')\n",
    "\n",
    "        # train\n",
    "        net.train()\n",
    "        loss_t, acc_t = epoch_loss(net, criterion, train_dl, optimizer)\n",
    "        history['train']['loss'].append(loss_t)\n",
    "        history['train']['acc'].append(acc_t)\n",
    "\n",
    "        # eval\n",
    "        net.eval()\n",
    "        with torch.no_grad():\n",
    "            loss_v, acc_v = epoch_loss(net, criterion, val_dl)\n",
    "        history['val']['loss'].append(loss_v)\n",
    "        history['val']['acc'].append(acc_v)\n",
    "\n",
    "        if loss_v < best_loss:\n",
    "            best_loss = loss_v\n",
    "            weights = copy.deepcopy(net.state_dict())\n",
    "            torch.save(weights, save_loc)\n",
    "            print(f'Weights saved. Loss: {best_loss:.3f}')\n",
    "\n",
    "        scheduler.step(loss_v)\n",
    "        if lr != optimizer.param_groups[0]['lr']:\n",
    "            net.load_state_dict(weights)\n",
    "            print(\"Weights being loaded ...\")\n",
    "\n",
    "        print(f'Train loss: {loss_t:.3f}{\" \" * 5}Val loss: {loss_v:.3f}{\" \" * 5}Val acc: {acc_v * 100:.3f}')\n",
    "        print('-' * 15)\n",
    "\n",
    "    net.load_state_dict(weights)\n",
    "\n",
    "    return net # trained model"
   ]
  },
  {
   "cell_type": "code",
   "execution_count": null,
   "metadata": {},
   "outputs": [],
   "source": [
    "trained_net = train(net, params)"
   ]
  },
  {
   "cell_type": "code",
   "execution_count": null,
   "metadata": {
    "pycharm": {
     "name": "#%%\n"
    }
   },
   "outputs": [],
   "source": [
    "plt.clf()\n",
    "plt.title('Train vs Val Loss')\n",
    "plt.xlabel('Epochs')\n",
    "plt.ylabel('Loss')\n",
    "plt.plot(history['val']['loss'], label='Val')\n",
    "plt.plot(history['train']['loss'], label='Train')\n",
    "plt.legend()\n",
    "plt.show()"
   ]
  },
  {
   "cell_type": "code",
   "execution_count": null,
   "outputs": [],
   "source": [
    "plt.clf()\n",
    "plt.title('Train vs Val Acc')\n",
    "plt.xlabel('Epochs')\n",
    "plt.ylabel('Acc')\n",
    "plt.plot(history['val']['acc'], label='Val')\n",
    "plt.plot(history['train']['acc'], label='Train')\n",
    "plt.legend()\n",
    "plt.show()"
   ],
   "metadata": {
    "collapsed": false,
    "pycharm": {
     "name": "#%%\n"
    }
   }
  },
  {
   "cell_type": "code",
   "execution_count": null,
   "outputs": [],
   "source": [],
   "metadata": {
    "collapsed": false,
    "pycharm": {
     "name": "#%%\n"
    }
   }
  }
 ],
 "metadata": {
  "kernelspec": {
   "name": "deeplearning",
   "language": "python",
   "display_name": "DeepLearning"
  },
  "language_info": {
   "codemirror_mode": {
    "name": "ipython",
    "version": 3
   },
   "file_extension": ".py",
   "mimetype": "text/x-python",
   "name": "python",
   "nbconvert_exporter": "python",
   "pygments_lexer": "ipython3",
   "version": "3.6.8"
  }
 },
 "nbformat": 4,
 "nbformat_minor": 2
}