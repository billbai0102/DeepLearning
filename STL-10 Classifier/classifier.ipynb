{
 "cells": [
  {
   "cell_type": "code",
   "execution_count": 1,
   "metadata": {
    "collapsed": true
   },
   "outputs": [],
   "source": [
    "import torch\n",
    "from torch import optim\n",
    "from torch.utils.data import Subset\n",
    "import torchvision\n",
    "from torchvision import datasets\n",
    "from torchvision import transforms\n",
    "\n",
    "from sklearn.model_selection import StratifiedShuffleSplit\n",
    "\n",
    "import os\n",
    "import collections\n",
    "import numpy as np\n",
    "import matplotlib.pyplot as plt\n",
    "\n",
    "torch.manual_seed(0)\n",
    "np.random.seed(0)"
   ]
  },
  {
   "cell_type": "code",
   "execution_count": 2,
   "outputs": [
    {
     "name": "stdout",
     "output_type": "stream",
     "text": [
      "Files already downloaded and verified\n"
     ]
    },
    {
     "data": {
      "text/plain": "(5000, 3, 96, 96)"
     },
     "execution_count": 2,
     "metadata": {},
     "output_type": "execute_result"
    }
   ],
   "source": [
    "transform = transforms.Compose([\n",
    "    transforms.ToTensor()\n",
    "])\n",
    "\n",
    "train_ds = datasets.STL10('./data', split='train', download=True, transform=transform)\n",
    "\n",
    "train_ds.data.shape"
   ],
   "metadata": {
    "collapsed": false,
    "pycharm": {
     "name": "#%%\n"
    }
   }
  },
  {
   "cell_type": "code",
   "execution_count": 3,
   "outputs": [
    {
     "data": {
      "text/plain": "Counter({1: 500,\n         5: 500,\n         6: 500,\n         3: 500,\n         9: 500,\n         7: 500,\n         4: 500,\n         8: 500,\n         0: 500,\n         2: 500})"
     },
     "execution_count": 3,
     "metadata": {},
     "output_type": "execute_result"
    }
   ],
   "source": [
    "labels = [labels for _, labels in train_ds]\n",
    "labels_counter = collections.Counter(labels)\n",
    "labels_counter"
   ],
   "metadata": {
    "collapsed": false,
    "pycharm": {
     "name": "#%%\n"
    }
   }
  },
  {
   "cell_type": "code",
   "execution_count": 4,
   "outputs": [
    {
     "name": "stdout",
     "output_type": "stream",
     "text": [
      "Files already downloaded and verified\n"
     ]
    },
    {
     "data": {
      "text/plain": "(8000, 3, 96, 96)"
     },
     "execution_count": 4,
     "metadata": {},
     "output_type": "execute_result"
    }
   ],
   "source": [
    "test_ds = datasets.STL10('./data', split='test', download=True, transform=transform)\n",
    "test_ds.data.shape"
   ],
   "metadata": {
    "collapsed": false,
    "pycharm": {
     "name": "#%%\n"
    }
   }
  },
  {
   "cell_type": "code",
   "execution_count": 5,
   "outputs": [
    {
     "data": {
      "text/plain": "Counter({1: 500,\n         5: 500,\n         6: 500,\n         3: 500,\n         9: 500,\n         7: 500,\n         4: 500,\n         8: 500,\n         0: 500,\n         2: 500})"
     },
     "execution_count": 5,
     "metadata": {},
     "output_type": "execute_result"
    }
   ],
   "source": [
    "labels_t = [labels for _, labels in test_ds]\n",
    "labels_t_counter = collections.Counter(labels)\n",
    "labels_t_counter"
   ],
   "metadata": {
    "collapsed": false,
    "pycharm": {
     "name": "#%%\n"
    }
   }
  },
  {
   "cell_type": "code",
   "execution_count": 6,
   "outputs": [
    {
     "name": "stdout",
     "output_type": "stream",
     "text": [
      "[2096 4321 2767 ... 3206 3910 2902] (6400,)\n",
      "[6332 6852 1532 ... 5766 4469 1011] (1600,)\n"
     ]
    }
   ],
   "source": [
    "shuffle = StratifiedShuffleSplit(n_splits=1, test_size=.2, random_state=0)\n",
    "indicies = list(range(len(test_ds)))\n",
    "\n",
    "# unpack generator\n",
    "test_i, val_i = shuffle.split(indicies, labels_t).__next__()\n",
    "print(test_i, test_i.shape)\n",
    "print(val_i, val_i.shape)"
   ],
   "metadata": {
    "collapsed": false,
    "pycharm": {
     "name": "#%%\n"
    }
   }
  },
  {
   "cell_type": "code",
   "execution_count": 7,
   "outputs": [
    {
     "name": "stdout",
     "output_type": "stream",
     "text": [
      "1600\n",
      "6400\n"
     ]
    }
   ],
   "source": [
    "val_ds = Subset(test_ds, val_i)\n",
    "test_ds = Subset(test_ds, test_i)\n",
    "\n",
    "print(len(val_ds))\n",
    "print(len(test_ds))"
   ],
   "metadata": {
    "collapsed": false,
    "pycharm": {
     "name": "#%%\n"
    }
   }
  },
  {
   "cell_type": "code",
   "execution_count": 9,
   "outputs": [
    {
     "name": "stdout",
     "output_type": "stream",
     "text": [
      "Counter({2: 160, 8: 160, 3: 160, 6: 160, 4: 160, 1: 160, 5: 160, 9: 160, 0: 160, 7: 160})\n",
      "Counter({6: 640, 0: 640, 4: 640, 5: 640, 9: 640, 2: 640, 3: 640, 1: 640, 7: 640, 8: 640})\n"
     ]
    }
   ],
   "source": [
    "val_labels = [label for _, label in val_ds]\n",
    "test_labels = [label for _, label in test_ds]\n",
    "\n",
    "val_counter = collections.Counter(val_labels)\n",
    "test_counter = collections.Counter(test_labels)\n",
    "\n",
    "print(val_counter)\n",
    "print(test_counter)"
   ],
   "metadata": {
    "collapsed": false,
    "pycharm": {
     "name": "#%%\n"
    }
   }
  },
  {
   "cell_type": "code",
   "execution_count": 8,
   "outputs": [],
   "source": [
    "\n"
   ],
   "metadata": {
    "collapsed": false,
    "pycharm": {
     "name": "#%%\n"
    }
   }
  }
 ],
 "metadata": {
  "kernelspec": {
   "name": "deeplearning",
   "language": "python",
   "display_name": "DeepLearning"
  },
  "language_info": {
   "codemirror_mode": {
    "name": "ipython",
    "version": 2
   },
   "file_extension": ".py",
   "mimetype": "text/x-python",
   "name": "python",
   "nbconvert_exporter": "python",
   "pygments_lexer": "ipython2",
   "version": "2.7.6"
  }
 },
 "nbformat": 4,
 "nbformat_minor": 0
}