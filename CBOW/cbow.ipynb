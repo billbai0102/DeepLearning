{
 "cells": [
  {
   "cell_type": "code",
   "execution_count": 6,
   "metadata": {
    "collapsed": true
   },
   "outputs": [],
   "source": [
    "import torch\n",
    "from torch import nn\n",
    "import numpy as np"
   ]
  },
  {
   "cell_type": "code",
   "execution_count": 5,
   "outputs": [
    {
     "data": {
      "text/plain": "['you', 'on', 'stormy', 'nights', 'when']"
     },
     "execution_count": 5,
     "metadata": {},
     "output_type": "execute_result"
    }
   ],
   "source": [
    "text = \"\"\"How that personage haunted my dreams, I need scarcely tell you. On\n",
    "stormy nights, when the wind shook the four corners of the house and\n",
    "the surf roared along the cove and up the cliffs, I would see him in a\n",
    "thousand forms, and with a thousand diabolical expressions. Now the leg\n",
    "would be cut off at the knee, now at the hip, now he was a monstrous\n",
    "kind of a creature who had never had but the one leg, and that in the\n",
    "middle of his body. To see him leap and run and pursue me over hedge and\n",
    "ditch was the worst of nightmares. And altogether I paid pretty dear for\n",
    "my monthly fourpenny piece, in the shape of these abominable fancies\"\"\"\n",
    "\n",
    "text = text.replace(',', '').replace('.', '').replace('\\n', ' ').lower().split()\n",
    "text[10:15]"
   ],
   "metadata": {
    "collapsed": false,
    "pycharm": {
     "name": "#%%\n"
    }
   }
  },
  {
   "cell_type": "code",
   "execution_count": 3,
   "outputs": [
    {
     "name": "stdout",
     "output_type": "stream",
     "text": [
      "Corpus: {'on', 'ditch', 'for', 'never', 'monstrous', 'monthly', 'him', 'be', 'personage', 'house', 'fancies', 'now', 'he', 'middle', 'kind', 'haunted', 'abominable', 'would', 'me', 'was', 'forms', 'and', 'to', 'at', 'leg', 'wind', 'pursue', 'but', 'tell', 'that', 'one', 'his', 'hip', 'the', 'roared', 'how', 'knee', 'nights', 'my', 'who', 'thousand', 'dear', 'shape', 'had', 'up', 'body', 'scarcely', 'when', 'cliffs', 'worst', 'stormy', 'see', 'a', 'corners', 'dreams', 'these', 'off', 'paid', 'cove', 'in', 'need', 'leap', 'with', 'piece', 'you', 'over', 'shook', 'i', 'along', 'fourpenny', 'expressions', 'four', 'cut', 'diabolical', 'run', 'nightmares', 'creature', 'of', 'pretty', 'hedge', 'surf', 'altogether'}\n",
      "Len: 82\n",
      "{'on': 0, 'ditch': 1, 'for': 2, 'never': 3, 'monstrous': 4, 'monthly': 5, 'him': 6, 'be': 7, 'personage': 8, 'house': 9, 'fancies': 10, 'now': 11, 'he': 12, 'middle': 13, 'kind': 14, 'haunted': 15, 'abominable': 16, 'would': 17, 'me': 18, 'was': 19, 'forms': 20, 'and': 21, 'to': 22, 'at': 23, 'leg': 24, 'wind': 25, 'pursue': 26, 'but': 27, 'tell': 28, 'that': 29, 'one': 30, 'his': 31, 'hip': 32, 'the': 33, 'roared': 34, 'how': 35, 'knee': 36, 'nights': 37, 'my': 38, 'who': 39, 'thousand': 40, 'dear': 41, 'shape': 42, 'had': 43, 'up': 44, 'body': 45, 'scarcely': 46, 'when': 47, 'cliffs': 48, 'worst': 49, 'stormy': 50, 'see': 51, 'a': 52, 'corners': 53, 'dreams': 54, 'these': 55, 'off': 56, 'paid': 57, 'cove': 58, 'in': 59, 'need': 60, 'leap': 61, 'with': 62, 'piece': 63, 'you': 64, 'over': 65, 'shook': 66, 'i': 67, 'along': 68, 'fourpenny': 69, 'expressions': 70, 'four': 71, 'cut': 72, 'diabolical': 73, 'run': 74, 'nightmares': 75, 'creature': 76, 'of': 77, 'pretty': 78, 'hedge': 79, 'surf': 80, 'altogether': 81}\n",
      "{0: 'on', 1: 'ditch', 2: 'for', 3: 'never', 4: 'monstrous', 5: 'monthly', 6: 'him', 7: 'be', 8: 'personage', 9: 'house', 10: 'fancies', 11: 'now', 12: 'he', 13: 'middle', 14: 'kind', 15: 'haunted', 16: 'abominable', 17: 'would', 18: 'me', 19: 'was', 20: 'forms', 21: 'and', 22: 'to', 23: 'at', 24: 'leg', 25: 'wind', 26: 'pursue', 27: 'but', 28: 'tell', 29: 'that', 30: 'one', 31: 'his', 32: 'hip', 33: 'the', 34: 'roared', 35: 'how', 36: 'knee', 37: 'nights', 38: 'my', 39: 'who', 40: 'thousand', 41: 'dear', 42: 'shape', 43: 'had', 44: 'up', 45: 'body', 46: 'scarcely', 47: 'when', 48: 'cliffs', 49: 'worst', 50: 'stormy', 51: 'see', 52: 'a', 53: 'corners', 54: 'dreams', 55: 'these', 56: 'off', 57: 'paid', 58: 'cove', 59: 'in', 60: 'need', 61: 'leap', 62: 'with', 63: 'piece', 64: 'you', 65: 'over', 66: 'shook', 67: 'i', 68: 'along', 69: 'fourpenny', 70: 'expressions', 71: 'four', 72: 'cut', 73: 'diabolical', 74: 'run', 75: 'nightmares', 76: 'creature', 77: 'of', 78: 'pretty', 79: 'hedge', 80: 'surf', 81: 'altogether'}\n"
     ]
    }
   ],
   "source": [
    "corpus = set(text)\n",
    "c_len = len(corpus)\n",
    "\n",
    "print(f'Corpus: {corpus}\\nLen: {c_len}')\n",
    "\n",
    "word_dict = {}\n",
    "word_dict_inv = {}\n",
    "for idx, word in enumerate(corpus):\n",
    "    word_dict[word] = idx\n",
    "    word_dict_inv[idx] = word\n",
    "\n",
    "print(word_dict)\n",
    "print(word_dict_inv)"
   ],
   "metadata": {
    "collapsed": false,
    "pycharm": {
     "name": "#%%\n"
    }
   }
  },
  {
   "cell_type": "code",
   "execution_count": 4,
   "outputs": [
    {
     "data": {
      "text/plain": "(['how', 'that', 'haunted', 'my'], 'personage')"
     },
     "execution_count": 4,
     "metadata": {},
     "output_type": "execute_result"
    }
   ],
   "source": [
    "def encode_context(context, text):\n",
    "    \"\"\"\n",
    "    encodes text with context\n",
    "\n",
    "    :param context: number of preceding and following words\n",
    "    :param text: the text to encode\n",
    "    :return: list of tuples with structure ([context_words], target)\n",
    "    \"\"\"\n",
    "    data = []\n",
    "    for i in range(context, len(text) - context):\n",
    "        context_words = [text[i+j] for j in range(-context, context+1)]\n",
    "        del context_words[context]\n",
    "        target = text[i]\n",
    "        data.append((context_words, target))\n",
    "\n",
    "    return data\n",
    "\n",
    "data = encode_context(2, text)\n",
    "data[0] # \"how that <personage> haunted my...\""
   ],
   "metadata": {
    "collapsed": false,
    "pycharm": {
     "name": "#%%\n"
    }
   }
  },
  {
   "cell_type": "code",
   "execution_count": 7,
   "outputs": [
    {
     "ename": "SyntaxError",
     "evalue": "unexpected EOF while parsing (<ipython-input-7-b48c654d6e25>, line 3)",
     "output_type": "error",
     "traceback": [
      "\u001B[1;36m  File \u001B[1;32m\"<ipython-input-7-b48c654d6e25>\"\u001B[1;36m, line \u001B[1;32m3\u001B[0m\n\u001B[1;33m    \u001B[0m\n\u001B[1;37m    ^\u001B[0m\n\u001B[1;31mSyntaxError\u001B[0m\u001B[1;31m:\u001B[0m unexpected EOF while parsing\n"
     ]
    }
   ],
   "source": [
    "emb_len = 20\n",
    "\n",
    "class CBoW(nn.Module):\n",
    "    def __init__(self, corp_len, emb_dim):\n",
    "        super(CBoW, self).__init__()\n",
    "        \n",
    "\n",
    "    def forward(self, x):\n",
    "        return x\n"
   ],
   "metadata": {
    "collapsed": false,
    "pycharm": {
     "name": "#%%\n"
    }
   }
  }
 ],
 "metadata": {
  "kernelspec": {
   "name": "deeplearning",
   "language": "python",
   "display_name": "DeepLearning"
  },
  "language_info": {
   "codemirror_mode": {
    "name": "ipython",
    "version": 2
   },
   "file_extension": ".py",
   "mimetype": "text/x-python",
   "name": "python",
   "nbconvert_exporter": "python",
   "pygments_lexer": "ipython2",
   "version": "2.7.6"
  }
 },
 "nbformat": 4,
 "nbformat_minor": 0
}