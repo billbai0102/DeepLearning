{
 "cells": [
  {
   "cell_type": "code",
   "execution_count": 4,
   "metadata": {
    "collapsed": true
   },
   "outputs": [],
   "source": [
    "import numpy as np\n",
    "from sklearn.metrics.pairwise import cosine_similarity"
   ]
  },
  {
   "cell_type": "code",
   "execution_count": 2,
   "outputs": [
    {
     "data": {
      "text/plain": "array([-0.95849 ,  0.17321 ,  0.25165 , -0.56145 , -0.12144 ,  1.5435  ,\n       -1.2893  , -0.97779 , -0.13548 , -0.60693 , -1.3781  ,  0.63347 ,\n        0.13316 ,  0.24632 ,  0.66026 , -0.044613,  0.40951 , -0.76167 ,\n        0.46753 , -0.66781 ,  0.29985 , -0.27481 , -0.54799 , -0.85682 ,\n        0.053088, -2.017   ,  0.74853 , -0.12783 ,  0.13205 , -0.21945 ,\n        2.2983  , -0.31768 , -0.86494 , -0.10863 , -0.081377, -0.70342 ,\n        0.46    , -0.33473 ,  0.043703, -0.75508 , -0.68971 ,  0.71438 ,\n       -0.083595,  0.015862, -0.52385 ,  0.17252 , -0.49874 ,  0.23081 ,\n       -0.36469 ,  1.5456  ])"
     },
     "execution_count": 2,
     "metadata": {},
     "output_type": "execute_result"
    }
   ],
   "source": [
    "path = './data/glove.6B.50d.txt'\n",
    "\n",
    "vectors = open(path, 'r', encoding='utf8')\n",
    "glove = {}\n",
    "for v in vectors:\n",
    "    line = v.split()\n",
    "    word = line[0]\n",
    "    vector = np.array([float(val) for val in line[1:]])\n",
    "    glove[word] = vector\n",
    "\n",
    "glove['bill']"
   ],
   "metadata": {
    "collapsed": false,
    "pycharm": {
     "name": "#%%\n"
    }
   }
  },
  {
   "cell_type": "code",
   "execution_count": 3,
   "outputs": [
    {
     "name": "stdout",
     "output_type": "stream",
     "text": [
      "Vector Shape: (50,)\n"
     ]
    }
   ],
   "source": [
    "print(f'Vector Shape: {glove[\"bill\"].shape}')"
   ],
   "metadata": {
    "collapsed": false,
    "pycharm": {
     "name": "#%%\n"
    }
   }
  },
  {
   "cell_type": "code",
   "execution_count": 13,
   "outputs": [
    {
     "name": "stdout",
     "output_type": "stream",
     "text": [
      "Similarity between \"Bill\" and \"Bai\": -0.11803702784677288\n"
     ]
    }
   ],
   "source": [
    "similarity_bb = cosine_similarity(glove['bill'].reshape(1, -1), glove['bai'].reshape(1, -1))\n",
    "print(f'Similarity between \\\"Bill\\\" and \\\"Bai\\\": {similarity_bb[0][0]}')"
   ],
   "metadata": {
    "collapsed": false,
    "pycharm": {
     "name": "#%%\n"
    }
   }
  },
  {
   "cell_type": "code",
   "execution_count": 16,
   "outputs": [
    {
     "name": "stdout",
     "output_type": "stream",
     "text": [
      "Accuracy: 0.8184719623612926\n"
     ]
    }
   ],
   "source": [
    "pred_actor = glove['actress'] - glove['female'] + glove['male']\n",
    "print(f'Accuracy: {cosine_similarity(pred_actor.reshape(1, -1), glove[\"actor\"].reshape(1, -1))[0][0]}')"
   ],
   "metadata": {
    "collapsed": false,
    "pycharm": {
     "name": "#%%\n"
    }
   }
  },
  {
   "cell_type": "code",
   "execution_count": null,
   "outputs": [],
   "source": [
    "\n"
   ],
   "metadata": {
    "collapsed": false,
    "pycharm": {
     "name": "#%%\n"
    }
   }
  }
 ],
 "metadata": {
  "kernelspec": {
   "name": "deeplearning",
   "language": "python",
   "display_name": "DeepLearning"
  },
  "language_info": {
   "codemirror_mode": {
    "name": "ipython",
    "version": 2
   },
   "file_extension": ".py",
   "mimetype": "text/x-python",
   "name": "python",
   "nbconvert_exporter": "python",
   "pygments_lexer": "ipython2",
   "version": "2.7.6"
  }
 },
 "nbformat": 4,
 "nbformat_minor": 0
}