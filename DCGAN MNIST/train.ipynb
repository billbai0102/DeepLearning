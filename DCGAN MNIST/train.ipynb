{
 "cells": [
  {
   "cell_type": "code",
   "execution_count": 1,
   "metadata": {
    "collapsed": true
   },
   "outputs": [],
   "source": [
    "import torch\n",
    "from torch import nn\n",
    "from torch import optim\n",
    "from torch.utils.data import DataLoader\n",
    "import torchvision\n",
    "from torchvision import datasets\n",
    "from torchvision import transforms\n",
    "from torchvision.utils import save_image\n",
    "from torchsummary import summary\n",
    "\n",
    "import os\n",
    "import numpy as np\n",
    "from IPython.display import display\n",
    "import matplotlib.pyplot as plt\n",
    "\n",
    "from hyperparameters import *\n",
    "from Generator import Generator\n",
    "from Discriminator import Discriminator\n",
    "\n",
    "np.random.seed(0)\n",
    "torch.cuda.manual_seed(0)"
   ]
  },
  {
   "cell_type": "code",
   "execution_count": 2,
   "outputs": [],
   "source": [
    "data = datasets.MNIST(\n",
    "    root='./data'\n",
    "    , download=True\n",
    "    , transform=transforms.Compose([\n",
    "        transforms.Resize(SZ)\n",
    "        , transforms.ToTensor()\n",
    "        , transforms.Normalize((.5,), (.5,))\n",
    "    ])\n",
    ")\n",
    "\n",
    "dl = DataLoader(data, batch_size=BATCH_SZ, shuffle=True, num_workers=4, pin_memory=True)"
   ],
   "metadata": {
    "collapsed": false,
    "pycharm": {
     "name": "#%%\n"
    }
   }
  },
  {
   "cell_type": "code",
   "execution_count": 3,
   "outputs": [
    {
     "data": {
      "text/plain": "<matplotlib.image.AxesImage at 0x24f4f783e88>"
     },
     "metadata": {},
     "output_type": "display_data"
    },
    {
     "name": "stdout",
     "output_type": "stream",
     "text": [
      "Label: 2\n"
     ]
    },
    {
     "data": {
      "text/plain": "<Figure size 432x288 with 1 Axes>",
      "image/png": "[encoded data removed]"
     },
     "metadata": {
      "needs_background": "light"
     },
     "output_type": "display_data"
    }
   ],
   "source": [
    "for data, target in dl:\n",
    "    data, target = data[0].squeeze(0).numpy(), target[0]\n",
    "    display(plt.imshow(data))\n",
    "    print(f'Label: {target}')\n",
    "    break"
   ],
   "metadata": {
    "collapsed": false,
    "pycharm": {
     "name": "#%%\n"
    }
   }
  },
  {
   "cell_type": "code",
   "execution_count": 4,
   "outputs": [],
   "source": [
    "def init_weights(cls):\n",
    "    cls_name = cls.__class__.__name__\n",
    "\n",
    "    # init weights for conv tensors\n",
    "    if cls_name.find('Conv') != -1:\n",
    "        cls.weight.data.normal_(0.0, 0.02)\n",
    "\n",
    "    # init weights for batch normalization tensors\n",
    "    elif cls_name.find('BatchNorm') != -1:\n",
    "        cls.weight.data.normal_(1.0, 0.02)\n",
    "        cls.bias.data.fill_(0)\n"
   ],
   "metadata": {
    "collapsed": false,
    "pycharm": {
     "name": "#%%\n"
    }
   }
  },
  {
   "cell_type": "code",
   "execution_count": 5,
   "outputs": [
    {
     "name": "stdout",
     "output_type": "stream",
     "text": [
      "-----Generator-----\n",
      "----------------------------------------------------------------\n",
      "        Layer (type)               Output Shape         Param #\n",
      "================================================================\n",
      "   ConvTranspose2d-1            [-1, 512, 4, 4]         819,200\n",
      "       BatchNorm2d-2            [-1, 512, 4, 4]           1,024\n",
      "         LeakyReLU-3            [-1, 512, 4, 4]               0\n",
      "   ConvTranspose2d-4            [-1, 256, 8, 8]       2,097,152\n",
      "       BatchNorm2d-5            [-1, 256, 8, 8]             512\n",
      "         LeakyReLU-6            [-1, 256, 8, 8]               0\n",
      "   ConvTranspose2d-7          [-1, 128, 16, 16]         524,288\n",
      "       BatchNorm2d-8          [-1, 128, 16, 16]             256\n",
      "         LeakyReLU-9          [-1, 128, 16, 16]               0\n",
      "  ConvTranspose2d-10           [-1, 64, 32, 32]         131,072\n",
      "      BatchNorm2d-11           [-1, 64, 32, 32]             128\n",
      "        LeakyReLU-12           [-1, 64, 32, 32]               0\n",
      "  ConvTranspose2d-13            [-1, 1, 64, 64]           1,024\n",
      "             Tanh-14            [-1, 1, 64, 64]               0\n",
      "================================================================\n",
      "Total params: 3,574,656\n",
      "Trainable params: 3,574,656\n",
      "Non-trainable params: 0\n",
      "----------------------------------------------------------------\n",
      "Input size (MB): 0.00\n",
      "Forward/backward pass size (MB): 2.88\n",
      "Params size (MB): 13.64\n",
      "Estimated Total Size (MB): 16.51\n",
      "----------------------------------------------------------------\n",
      "\n",
      "-----Discriminator-----\n",
      "----------------------------------------------------------------\n",
      "        Layer (type)               Output Shape         Param #\n",
      "================================================================\n",
      "            Conv2d-1           [-1, 64, 50, 50]           1,024\n",
      "         LeakyReLU-2           [-1, 64, 50, 50]               0\n",
      "            Conv2d-3          [-1, 128, 25, 25]         131,072\n",
      "       BatchNorm2d-4          [-1, 128, 25, 25]             256\n",
      "         LeakyReLU-5          [-1, 128, 25, 25]               0\n",
      "            Conv2d-6          [-1, 256, 12, 12]         524,288\n",
      "       BatchNorm2d-7          [-1, 256, 12, 12]             512\n",
      "         LeakyReLU-8          [-1, 256, 12, 12]               0\n",
      "            Conv2d-9            [-1, 512, 6, 6]       2,097,152\n",
      "      BatchNorm2d-10            [-1, 512, 6, 6]           1,024\n",
      "        LeakyReLU-11            [-1, 512, 6, 6]               0\n",
      "           Conv2d-12              [-1, 1, 3, 3]           8,192\n",
      "          Sigmoid-13              [-1, 1, 3, 3]               0\n",
      "================================================================\n",
      "Total params: 2,763,520\n",
      "Trainable params: 2,763,520\n",
      "Non-trainable params: 0\n",
      "----------------------------------------------------------------\n",
      "Input size (MB): 0.04\n",
      "Forward/backward pass size (MB): 5.54\n",
      "Params size (MB): 10.54\n",
      "Estimated Total Size (MB): 16.12\n",
      "----------------------------------------------------------------\n"
     ]
    },
    {
     "data": {
      "text/plain": "None"
     },
     "metadata": {},
     "output_type": "display_data"
    },
    {
     "data": {
      "text/plain": "None"
     },
     "metadata": {},
     "output_type": "display_data"
    }
   ],
   "source": [
    "# create Generator instance and move to cuda\n",
    "gen = Generator().cuda()\n",
    "# create Discriminator instance and move to cuda\n",
    "dis = Discriminator().cuda()\n",
    "\n",
    "# apply init_weights() to all layers\n",
    "gen.apply(init_weights)\n",
    "dis.apply(init_weights)\n",
    "\n",
    "# print summaries\n",
    "print('-'*5 + 'Generator' + '-'*5)\n",
    "display(summary(gen, input_size=(100, 1, 1)))\n",
    "print('\\n' + '-'*5 + 'Discriminator' + '-'*5)\n",
    "display(summary(dis, input_size=(1, 100, 100)))"
   ],
   "metadata": {
    "collapsed": false,
    "pycharm": {
     "name": "#%%\n"
    }
   }
  },
  {
   "cell_type": "code",
   "execution_count": 6,
   "outputs": [],
   "source": [
    "criterion = nn.BCELoss()\n",
    "d_opt = optim.Adam(dis.parameters(), lr=LR, betas=(0.88, 0.99))\n",
    "g_opt = optim.Adam(gen.parameters(), lr=LR, betas=(0.88, 0.99))"
   ],
   "metadata": {
    "collapsed": false,
    "pycharm": {
     "name": "#%%\n"
    }
   }
  },
  {
   "cell_type": "code",
   "execution_count": 7,
   "outputs": [
    {
     "name": "stdout",
     "output_type": "stream",
     "text": [
      "torch.Size([512, 100, 1, 1])\n"
     ]
    }
   ],
   "source": [
    "sample_noise = torch.randn(BATCH_SZ, GEN_IN, 1, 1).cuda()\n",
    "print(sample_noise.shape)"
   ],
   "metadata": {
    "collapsed": false,
    "pycharm": {
     "name": "#%%\n"
    }
   }
  },
  {
   "cell_type": "code",
   "execution_count": 8,
   "outputs": [
    {
     "name": "stderr",
     "output_type": "stream",
     "text": [
      "..\\aten\\src\\ATen\\native\\TensorFactories.cpp:361: UserWarning: Deprecation warning: In a future PyTorch release torch.full will no longer return tensors of floating dtype by default. Instead, a bool fill_value will return a tensor of torch.bool dtype, and an integral fill_value will return a tensor of torch.long dtype. Set the optional `dtype` or `out` arguments to suppress this warning.\n"
     ]
    },
    {
     "name": "stdout",
     "output_type": "stream",
     "text": [
      "\n",
      "-----Epoch: 1/50 Batch: 0/512-----\n",
      "Discriminator loss on real data: 0.8546\n",
      "Discriminator loss on fake data: 0.4380\n",
      "Generator loss: 2.4076\n",
      "\n",
      "-----Epoch: 2/50 Batch: 0/512-----\n",
      "Discriminator loss on real data: 0.0060\n",
      "Discriminator loss on fake data: 0.0028\n",
      "Generator loss: 9.4927\n",
      "\n",
      "-----Epoch: 3/50 Batch: 0/512-----\n",
      "Discriminator loss on real data: 0.0312\n",
      "Discriminator loss on fake data: 0.0124\n",
      "Generator loss: 8.7036\n",
      "\n",
      "-----Epoch: 4/50 Batch: 0/512-----\n",
      "Discriminator loss on real data: 0.0070\n",
      "Discriminator loss on fake data: 0.0573\n",
      "Generator loss: 9.2874\n",
      "\n",
      "-----Epoch: 5/50 Batch: 0/512-----\n",
      "Discriminator loss on real data: 0.0057\n",
      "Discriminator loss on fake data: 0.0000\n",
      "Generator loss: 13.4710\n",
      "\n",
      "-----Epoch: 6/50 Batch: 0/512-----\n",
      "Discriminator loss on real data: 0.0046\n",
      "Discriminator loss on fake data: 0.0559\n",
      "Generator loss: 6.4188\n",
      "\n",
      "-----Epoch: 7/50 Batch: 0/512-----\n",
      "Discriminator loss on real data: 0.0000\n",
      "Discriminator loss on fake data: 0.0001\n",
      "Generator loss: 10.3386\n",
      "\n",
      "-----Epoch: 8/50 Batch: 0/512-----\n",
      "Discriminator loss on real data: 0.0254\n",
      "Discriminator loss on fake data: 0.0207\n",
      "Generator loss: 7.4715\n",
      "\n",
      "-----Epoch: 9/50 Batch: 0/512-----\n",
      "Discriminator loss on real data: 0.0091\n",
      "Discriminator loss on fake data: 0.0201\n",
      "Generator loss: 6.5189\n",
      "\n",
      "-----Epoch: 10/50 Batch: 0/512-----\n",
      "Discriminator loss on real data: 0.4771\n",
      "Discriminator loss on fake data: 0.1045\n",
      "Generator loss: 4.3469\n",
      "\n",
      "-----Epoch: 11/50 Batch: 0/512-----\n",
      "Discriminator loss on real data: 0.0143\n",
      "Discriminator loss on fake data: 0.0081\n",
      "Generator loss: 6.5372\n",
      "\n",
      "-----Epoch: 12/50 Batch: 0/512-----\n",
      "Discriminator loss on real data: 0.0041\n",
      "Discriminator loss on fake data: 0.0033\n",
      "Generator loss: 7.8543\n",
      "\n",
      "-----Epoch: 13/50 Batch: 0/512-----\n",
      "Discriminator loss on real data: 0.0888\n",
      "Discriminator loss on fake data: 0.0208\n",
      "Generator loss: 4.8144\n",
      "\n",
      "-----Epoch: 14/50 Batch: 0/512-----\n",
      "Discriminator loss on real data: 0.0420\n",
      "Discriminator loss on fake data: 0.0586\n",
      "Generator loss: 4.4484\n",
      "\n",
      "-----Epoch: 15/50 Batch: 0/512-----\n",
      "Discriminator loss on real data: 0.0084\n",
      "Discriminator loss on fake data: 0.0769\n",
      "Generator loss: 5.7457\n",
      "\n",
      "-----Epoch: 16/50 Batch: 0/512-----\n",
      "Discriminator loss on real data: 0.1218\n",
      "Discriminator loss on fake data: 0.0375\n",
      "Generator loss: 4.5815\n",
      "\n",
      "-----Epoch: 17/50 Batch: 0/512-----\n",
      "Discriminator loss on real data: 0.0189\n",
      "Discriminator loss on fake data: 0.0266\n",
      "Generator loss: 5.5406\n",
      "\n",
      "-----Epoch: 18/50 Batch: 0/512-----\n",
      "Discriminator loss on real data: 0.2371\n",
      "Discriminator loss on fake data: 0.0611\n",
      "Generator loss: 3.4577\n",
      "\n",
      "-----Epoch: 19/50 Batch: 0/512-----\n",
      "Discriminator loss on real data: 0.2059\n",
      "Discriminator loss on fake data: 0.0079\n",
      "Generator loss: 3.0335\n",
      "\n",
      "-----Epoch: 20/50 Batch: 0/512-----\n",
      "Discriminator loss on real data: 0.0666\n",
      "Discriminator loss on fake data: 0.1839\n",
      "Generator loss: 1.9025\n",
      "\n",
      "-----Epoch: 21/50 Batch: 0/512-----\n",
      "Discriminator loss on real data: 0.0428\n",
      "Discriminator loss on fake data: 0.0140\n",
      "Generator loss: 5.0403\n",
      "\n",
      "-----Epoch: 22/50 Batch: 0/512-----\n",
      "Discriminator loss on real data: 0.0342\n",
      "Discriminator loss on fake data: 0.0210\n",
      "Generator loss: 5.1282\n",
      "\n",
      "-----Epoch: 23/50 Batch: 0/512-----\n",
      "Discriminator loss on real data: 0.0021\n",
      "Discriminator loss on fake data: 0.0992\n",
      "Generator loss: 4.1088\n",
      "\n",
      "-----Epoch: 24/50 Batch: 0/512-----\n",
      "Discriminator loss on real data: 0.0334\n",
      "Discriminator loss on fake data: 0.0128\n",
      "Generator loss: 6.8089\n",
      "\n",
      "-----Epoch: 25/50 Batch: 0/512-----\n",
      "Discriminator loss on real data: 0.1398\n",
      "Discriminator loss on fake data: 0.0707\n",
      "Generator loss: 4.4215\n",
      "\n",
      "-----Epoch: 26/50 Batch: 0/512-----\n",
      "Discriminator loss on real data: 0.0098\n",
      "Discriminator loss on fake data: 0.0322\n",
      "Generator loss: 5.1139\n",
      "\n",
      "-----Epoch: 27/50 Batch: 0/512-----\n",
      "Discriminator loss on real data: 0.4523\n",
      "Discriminator loss on fake data: 0.1084\n",
      "Generator loss: 4.2475\n",
      "\n",
      "-----Epoch: 28/50 Batch: 0/512-----\n",
      "Discriminator loss on real data: 0.2225\n",
      "Discriminator loss on fake data: 0.0036\n",
      "Generator loss: 6.5239\n",
      "\n",
      "-----Epoch: 29/50 Batch: 0/512-----\n",
      "Discriminator loss on real data: 0.0180\n",
      "Discriminator loss on fake data: 0.0104\n",
      "Generator loss: 6.4254\n",
      "\n",
      "-----Epoch: 30/50 Batch: 0/512-----\n",
      "Discriminator loss on real data: 0.0789\n",
      "Discriminator loss on fake data: 0.0085\n",
      "Generator loss: 6.7974\n",
      "\n",
      "-----Epoch: 31/50 Batch: 0/512-----\n",
      "Discriminator loss on real data: 0.0024\n",
      "Discriminator loss on fake data: 0.0421\n",
      "Generator loss: 5.8961\n",
      "\n",
      "-----Epoch: 32/50 Batch: 0/512-----\n",
      "Discriminator loss on real data: 0.0710\n",
      "Discriminator loss on fake data: 0.0048\n",
      "Generator loss: 5.7932\n",
      "\n",
      "-----Epoch: 33/50 Batch: 0/512-----\n",
      "Discriminator loss on real data: 0.0102\n",
      "Discriminator loss on fake data: 0.0483\n",
      "Generator loss: 6.3325\n",
      "\n",
      "-----Epoch: 34/50 Batch: 0/512-----\n",
      "Discriminator loss on real data: 0.0265\n",
      "Discriminator loss on fake data: 0.1031\n",
      "Generator loss: 4.3999\n",
      "\n",
      "-----Epoch: 35/50 Batch: 0/512-----\n",
      "Discriminator loss on real data: 0.1299\n",
      "Discriminator loss on fake data: 0.0058\n",
      "Generator loss: 3.3647\n",
      "\n",
      "-----Epoch: 36/50 Batch: 0/512-----\n",
      "Discriminator loss on real data: 0.1262\n",
      "Discriminator loss on fake data: 0.0188\n",
      "Generator loss: 3.8397\n",
      "\n",
      "-----Epoch: 37/50 Batch: 0/512-----\n",
      "Discriminator loss on real data: 0.0058\n",
      "Discriminator loss on fake data: 0.0041\n",
      "Generator loss: 6.2600\n",
      "\n",
      "-----Epoch: 38/50 Batch: 0/512-----\n",
      "Discriminator loss on real data: 0.0111\n",
      "Discriminator loss on fake data: 0.0039\n",
      "Generator loss: 6.6426\n",
      "\n",
      "-----Epoch: 39/50 Batch: 0/512-----\n",
      "Discriminator loss on real data: 0.0057\n",
      "Discriminator loss on fake data: 0.0192\n",
      "Generator loss: 6.5782\n",
      "\n",
      "-----Epoch: 40/50 Batch: 0/512-----\n",
      "Discriminator loss on real data: 0.0063\n",
      "Discriminator loss on fake data: 0.0029\n",
      "Generator loss: 6.7914\n",
      "\n",
      "-----Epoch: 41/50 Batch: 0/512-----\n",
      "Discriminator loss on real data: 0.0156\n",
      "Discriminator loss on fake data: 0.0575\n",
      "Generator loss: 5.4699\n",
      "\n",
      "-----Epoch: 42/50 Batch: 0/512-----\n",
      "Discriminator loss on real data: 0.0555\n",
      "Discriminator loss on fake data: 0.0008\n",
      "Generator loss: 7.0268\n",
      "\n",
      "-----Epoch: 43/50 Batch: 0/512-----\n",
      "Discriminator loss on real data: 0.0467\n",
      "Discriminator loss on fake data: 0.0057\n",
      "Generator loss: 7.5737\n",
      "\n",
      "-----Epoch: 44/50 Batch: 0/512-----\n",
      "Discriminator loss on real data: 0.0116\n",
      "Discriminator loss on fake data: 0.0029\n",
      "Generator loss: 8.9931\n",
      "\n",
      "-----Epoch: 45/50 Batch: 0/512-----\n",
      "Discriminator loss on real data: 0.0067\n",
      "Discriminator loss on fake data: 0.0738\n",
      "Generator loss: 6.9051\n",
      "\n",
      "-----Epoch: 46/50 Batch: 0/512-----\n",
      "Discriminator loss on real data: 0.0038\n",
      "Discriminator loss on fake data: 0.0015\n",
      "Generator loss: 7.5502\n",
      "\n",
      "-----Epoch: 47/50 Batch: 0/512-----\n",
      "Discriminator loss on real data: 0.0013\n",
      "Discriminator loss on fake data: 0.1295\n",
      "Generator loss: 5.9166\n",
      "\n",
      "-----Epoch: 48/50 Batch: 0/512-----\n",
      "Discriminator loss on real data: 0.0162\n",
      "Discriminator loss on fake data: 0.0079\n",
      "Generator loss: 6.1648\n",
      "\n",
      "-----Epoch: 49/50 Batch: 0/512-----\n",
      "Discriminator loss on real data: 0.0294\n",
      "Discriminator loss on fake data: 0.0016\n",
      "Generator loss: 7.2987\n",
      "\n",
      "-----Epoch: 50/50 Batch: 0/512-----\n",
      "Discriminator loss on real data: 0.0417\n",
      "Discriminator loss on fake data: 0.0271\n",
      "Generator loss: 4.3878\n"
     ]
    }
   ],
   "source": [
    "history = {\n",
    "'d_loss_real': [],\n",
    "'d_loss_fake': [],\n",
    "'d_acc': [],\n",
    "'g_loss': [],\n",
    "}\n",
    "\n",
    "D_BEST_LOSS = float('inf')\n",
    "G_BEST_LOSS = float('inf')\n",
    "\n",
    "for epoch in range(EPOCHS):\n",
    "    for idx, (data, target) in enumerate(dl):\n",
    "        # move data and target to cuda\n",
    "        data, target = data.cuda(), target.cuda()\n",
    "        # create tensors for real and fake targets (1 / 0)\n",
    "        data_real = data\n",
    "        target_real = torch.full((data_real.size(0), ), REAL_TARGET).cuda()\n",
    "        target_fake = torch.full((data_real.size(0), ), FAKE_TARGET).cuda()\n",
    "\n",
    "        # Train discriminator on **REAL** data\n",
    "        dis.zero_grad()\n",
    "        pred_real = dis(data_real)\n",
    "        d_loss_real = criterion(pred_real, target_real)\n",
    "        d_loss_real.backward()\n",
    "\n",
    "        # Train discriminator on **FAKE** data\n",
    "        gen_noise = torch.randn(data_real.size(0), GEN_IN, 1, 1).cuda()\n",
    "        data_fake = gen(gen_noise)\n",
    "        pred_fake = dis(data_fake.detach())\n",
    "        d_loss_fake = criterion(pred_fake, target_fake)\n",
    "        d_loss_fake.backward()\n",
    "        d_opt.step()\n",
    "\n",
    "        # Train generator on fake data\n",
    "        gen.zero_grad()\n",
    "        gen_fake = dis(data_fake)\n",
    "        g_loss = criterion(gen_fake, target_real)\n",
    "        g_loss.backward()\n",
    "        g_opt.step()\n",
    "\n",
    "        # calculate mean losses\n",
    "        d_loss_fake = d_loss_fake.mean().item()\n",
    "        d_loss_real = d_loss_real.mean().item()\n",
    "        g_loss = g_loss.mean().item()\n",
    "\n",
    "        # Add loss to history\n",
    "        history['d_loss_real'].append(d_loss_real)\n",
    "        history['d_loss_fake'].append(d_loss_fake)\n",
    "        history['g_loss'].append(g_loss)\n",
    "\n",
    "        if idx % (BATCH_SZ / 2) == 0:\n",
    "\n",
    "            # save progress images\n",
    "            save_image(data_real, './progress_images/real_sample.png', normalize=True)\n",
    "            with torch.no_grad():\n",
    "                sample_img = gen(sample_noise)\n",
    "                save_image(sample_img, f'./progress_images/gen_sample{epoch}.png', normalize=True)\n",
    "\n",
    "            # print status updates\n",
    "            print(f'\\n-----Epoch: {epoch + 1}/{EPOCHS} Batch: {idx}/{BATCH_SZ}-----'\n",
    "                  f'\\nDiscriminator loss on real data: {d_loss_real:.4f}'\n",
    "                  f'\\nDiscriminator loss on fake data: {d_loss_fake:.4f}'\n",
    "                  f'\\nGenerator loss: {g_loss:.4f}')\n",
    "\n",
    "        torch.save(dis.state_dict(), f'./models/discriminator{epoch}.pt')\n",
    "        torch.save(gen.state_dict(), f'./models/generator{epoch}.pt')"
   ],
   "metadata": {
    "collapsed": false,
    "pycharm": {
     "name": "#%%\n"
    }
   }
  },
  {
   "cell_type": "code",
   "execution_count": 19,
   "outputs": [
    {
     "name": "stdout",
     "output_type": "stream",
     "text": [
      "Magic: \n"
     ]
    },
    {
     "data": {
      "text/plain": "<Figure size 432x288 with 4 Axes>",
      "image/png": "[encoded data removed]"
     },
     "metadata": {
      "needs_background": "light"
     },
     "output_type": "display_data"
    }
   ],
   "source": [
    "noise = torch.randn(4, GEN_IN, 1, 1).cuda()\n",
    "out = gen(noise).cpu().detach().numpy()\n",
    "\n",
    "print('Magic: ')\n",
    "\n",
    "for idx, T in enumerate(out):\n",
    "    plt.subplot(2, 2, idx+1)\n",
    "    plt.imshow(T.squeeze(0))\n",
    "\n"
   ],
   "metadata": {
    "collapsed": false,
    "pycharm": {
     "name": "#%%\n"
    }
   }
  }
 ],
 "metadata": {
  "kernelspec": {
   "name": "deeplearning",
   "language": "python",
   "display_name": "DeepLearning"
  },
  "language_info": {
   "codemirror_mode": {
    "name": "ipython",
    "version": 2
   },
   "file_extension": ".py",
   "mimetype": "text/x-python",
   "name": "python",
   "nbconvert_exporter": "python",
   "pygments_lexer": "ipython2",
   "version": "2.7.6"
  }
 },
 "nbformat": 4,
 "nbformat_minor": 0
}